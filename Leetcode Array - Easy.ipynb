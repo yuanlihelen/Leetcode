{
 "cells": [
  {
   "cell_type": "code",
   "execution_count": 61,
   "metadata": {},
   "outputs": [],
   "source": [
    "\"1. Two Sum\" \"also in Hash Table\"\n",
    "\"\"\"Given an array of integers, return indices of the two numbers such that they add up to a specific target.\n",
    "\n",
    "You may assume that each input would have exactly one solution, and you may not use the same element twice.\n",
    "\n",
    "Example:\n",
    "\n",
    "Given nums = [2, 7, 11, 15], target = 9,\n",
    "\n",
    "Because nums[0] + nums[1] = 2 + 7 = 9,\n",
    "return [0, 1].\n",
    "\"\"\"\n",
    "class Solution:\n",
    "    def twoSum(self, nums, target):\n",
    "        seen = {}\n",
    "        for i, v in enumerate(nums):\n",
    "            remaining = target - v\n",
    "            print(seen)\n",
    "            if remaining in seen:\n",
    "                return [seen[remaining], i]\n",
    "            seen[v] = i\n",
    "        return []   \n",
    "        "
   ]
  },
  {
   "cell_type": "code",
   "execution_count": 282,
   "metadata": {},
   "outputs": [
    {
     "name": "stdout",
     "output_type": "stream",
     "text": [
      "{}\n",
      "{3: 0}\n"
     ]
    },
    {
     "data": {
      "text/plain": [
       "[0, 1]"
      ]
     },
     "execution_count": 282,
     "metadata": {},
     "output_type": "execute_result"
    }
   ],
   "source": [
    "Solution().twoSum([3,3,3,2], 6)"
   ]
  },
  {
   "cell_type": "code",
   "execution_count": 102,
   "metadata": {},
   "outputs": [
    {
     "data": {
      "text/plain": [
       "int"
      ]
     },
     "execution_count": 102,
     "metadata": {},
     "output_type": "execute_result"
    }
   ],
   "source": [
    "\"26. Remove Duplicates from Sorted Array\"\n",
    "\"\"\"Given a sorted array nums, remove the duplicates in-place such that each element appear only once and return the new length.\n",
    "Do not allocate extra space for another array, you must do this by modifying the input array in-place with O(1) extra memory.\n",
    "\n",
    "Example 1:\n",
    "\n",
    "Given nums = [1,1,2],\n",
    "\n",
    "Your function should return length = 2, with the first two elements of nums being 1 and 2 respectively.\n",
    "\n",
    "It doesn't matter what you leave beyond the returned length.\n",
    "Example 2:\n",
    "\n",
    "Given nums = [0,0,1,1,1,2,2,3,3,4],\n",
    "\n",
    "Your function should return length = 5, with the first five elements of nums being modified to 0, 1, 2, 3, and 4 respectively.\n",
    "\n",
    "It doesn't matter what values are set beyond the returned length.\"\"\"\n",
    "\n",
    "class Solution:\n",
    "    def removeDuplicates(self, nums):\n",
    "        output = {}\n",
    "        for i, v in enumerate(nums):\n",
    "            output[v]=i\n",
    "            nums = list(output)\n",
    "        return len(nums)\n",
    "Solution().removeDuplicates([0,1,2,2,3,3])"
   ]
  },
  {
   "cell_type": "code",
   "execution_count": 101,
   "metadata": {},
   "outputs": [
    {
     "data": {
      "text/plain": [
       "int"
      ]
     },
     "execution_count": 101,
     "metadata": {},
     "output_type": "execute_result"
    }
   ],
   "source": [
    "class Solution:\n",
    "    def removeDuplicates(self, nums):\n",
    "        \"\"\"\n",
    "        :type nums: List[int]\n",
    "        :rtype: int\n",
    "        \"\"\"\n",
    "        len_ = 1\n",
    "        if len(nums)==0:\n",
    "            return 0\n",
    "        for i in range(1,len(nums)):\n",
    "            if nums[i] != nums[i-1]:\n",
    "                nums[len_] = nums[i]\n",
    "                len_ +=1\n",
    "        return len_\n",
    "\n",
    "Solution().removeDuplicates([0,1,2,2,3,3]"
   ]
  },
  {
   "cell_type": "code",
   "execution_count": 97,
   "metadata": {},
   "outputs": [
    {
     "data": {
      "text/plain": [
       "4"
      ]
     },
     "execution_count": 97,
     "metadata": {},
     "output_type": "execute_result"
    }
   ],
   "source": [
    "class Solution(object):\n",
    "    def removeDuplicates(self, nums):\n",
    "        \"\"\"\n",
    "        :type nums: List[int]\n",
    "        :rtype: int\n",
    "        \"\"\"\n",
    "        if not nums:\n",
    "            return 0\n",
    "        i = 0\n",
    "        for j in range(1, len(nums)):\n",
    "            if nums[i]!=nums[j]:\n",
    "                i += 1\n",
    "                nums[i] = nums[j]\n",
    "        return i+1\n",
    "Solution().removeDuplicates([0,1,2,2,3,3])    "
   ]
  },
  {
   "cell_type": "code",
   "execution_count": 125,
   "metadata": {},
   "outputs": [
    {
     "name": "stdout",
     "output_type": "stream",
     "text": [
      "[0, 1, 3, 0, 4]\n"
     ]
    },
    {
     "data": {
      "text/plain": [
       "5"
      ]
     },
     "execution_count": 125,
     "metadata": {},
     "output_type": "execute_result"
    }
   ],
   "source": [
    "\"27. Remove Element\"\n",
    "\"\"\"Given an array nums and a value val, remove all instances of that value in-place and return the new length.\n",
    "\n",
    "Do not allocate extra space for another array, you must do this by modifying the input array in-place with O(1) extra memory.\n",
    "\n",
    "The order of elements can be changed. It doesn't matter what you leave beyond the new length.\n",
    "\n",
    "Example 1:\n",
    "\n",
    "Given nums = [3,2,2,3], val = 3,\n",
    "\n",
    "Your function should return length = 2, with the first two elements of nums being 2.\n",
    "\n",
    "It doesn't matter what you leave beyond the returned length.\n",
    "Example 2:\n",
    "\n",
    "Given nums = [0,1,2,2,3,0,4,2], val = 2,\n",
    "\n",
    "Your function should return length = 5, with the first five elements of nums containing 0, 1, 3, 0, and 4.\n",
    "\n",
    "Note that the order of those five elements can be arbitrary.\n",
    "\n",
    "It doesn't matter what values are set beyond the returned length.\"\"\"\n",
    "class Solution:\n",
    "    def removeElement(self, nums, val):\n",
    "        p = 0\n",
    "        for i in range(len(nums)):\n",
    "            if nums[i]!= val:\n",
    "                nums[p] = nums[i]\n",
    "                p = p+1\n",
    "        nums = nums[:p]\n",
    "        print(nums)\n",
    "        return p\n",
    "            \n",
    "\n",
    "Solution().removeElement([0,1,2,2,3,0,4,2],2)"
   ]
  },
  {
   "cell_type": "code",
   "execution_count": 155,
   "metadata": {},
   "outputs": [
    {
     "data": {
      "text/plain": [
       "1"
      ]
     },
     "execution_count": 155,
     "metadata": {},
     "output_type": "execute_result"
    }
   ],
   "source": [
    "\"35. Search Insert Position\"\n",
    "\"\"\"Given a sorted array and a target value, return the index if the target is found. If not, return the index where it would be if it were inserted in order.\n",
    "\n",
    "You may assume no duplicates in the array.\n",
    "\n",
    "Example 1:\n",
    "\n",
    "Input: [1,3,5,6], 5\n",
    "Output: 2\n",
    "Example 2:\n",
    "\n",
    "Input: [1,3,5,6], 2\n",
    "Output: 1\n",
    "Example 3:\n",
    "\n",
    "Input: [1,3,5,6], 7\n",
    "Output: 4\n",
    "Example 4:\n",
    "\n",
    "Input: [1,3,5,6], 0\n",
    "Output: 0\"\"\"\n",
    "class Solution:\n",
    "    def searchInsert(self, nums, target):\n",
    "        if len(nums)==1 and target >nums[0]:\n",
    "            return 1\n",
    "        for i in range(len(nums)):\n",
    "            if nums[0]> target:\n",
    "                return 0\n",
    "            if nums[i]==target:\n",
    "                return i\n",
    "            if target> nums[i] and target<nums[i+1]:\n",
    "                return i+1    \n",
    "            if nums[-1]<target:\n",
    "                return len(nums)\n",
    "\n",
    "Solution().searchInsert([0], 2)"
   ]
  },
  {
   "cell_type": "code",
   "execution_count": 159,
   "metadata": {},
   "outputs": [
    {
     "data": {
      "text/plain": [
       "1"
      ]
     },
     "execution_count": 159,
     "metadata": {},
     "output_type": "execute_result"
    }
   ],
   "source": [
    "class Solution(object):\n",
    "    def searchInsert(self, nums, target):\n",
    "        \"\"\"\n",
    "        :type nums: List[int]\n",
    "        :type target: int\n",
    "        :rtype: int\n",
    "        \"\"\"\n",
    "        left = 0\n",
    "        right = len(nums)\n",
    "        while left<right:\n",
    "            mid = (left+right)//2\n",
    "            if nums[mid]>=target:\n",
    "                right = mid\n",
    "            else:\n",
    "                left = mid + 1\n",
    "        return left \n",
    "Solution().searchInsert([0], 2)\n",
    "Solution().searchInsert([1,3,5,6], 2)"
   ]
  },
  {
   "cell_type": "code",
   "execution_count": 214,
   "metadata": {},
   "outputs": [
    {
     "data": {
      "text/plain": [
       "6"
      ]
     },
     "execution_count": 214,
     "metadata": {},
     "output_type": "execute_result"
    }
   ],
   "source": [
    "\"53. Maximum Subarray\"\n",
    "\n",
    "\"\"\"Given an integer array nums, find the contiguous subarray (containing at least one number) which has the largest sum and return its sum.\n",
    "\n",
    "Example:\n",
    "\n",
    "Input: [-2,1,-3,4,-1,2,1,-5,4],\n",
    "Output: 6\n",
    "Explanation: [4,-1,2,1] has the largest sum = 6.\n",
    "Follow up:\n",
    "\n",
    "If you have figured out the O(n) solution, try coding another solution using the divide and conquer approach, which is more subtle.\"\"\"\n",
    "class mySolution:\n",
    "    def maxSubArray(self, nums):\n",
    "        maxsum, currentsum = [nums[0], 0]\n",
    "        for i in range(len(nums)):\n",
    "            for q in range(len(nums)):\n",
    "                if q>=i:\n",
    "                    currentsum = sum(nums[i:(q+1)])\n",
    "                if maxsum < currentsum:\n",
    "                    maxsum = currentsum\n",
    "        return maxsum    \n",
    "mySolution().maxSubArray([-2,1,-3,4,-1,2,1,-5,4])   #时间太长了"
   ]
  },
  {
   "cell_type": "code",
   "execution_count": 213,
   "metadata": {},
   "outputs": [
    {
     "data": {
      "text/plain": [
       "6"
      ]
     },
     "execution_count": 213,
     "metadata": {},
     "output_type": "execute_result"
    }
   ],
   "source": [
    "class Solution(object):\n",
    "    def maxSubArray(self, nums):\n",
    "        \"\"\"\n",
    "        :type nums: List[int]\n",
    "        :rtype: int\n",
    "        \"\"\"\n",
    "        max_val = nums[0]\n",
    "        dp = [0] * len(nums)\n",
    "        dp[0] = nums[0]\n",
    "        for i in range(1, len(nums)):\n",
    "            if dp[i-1]>0:\n",
    "                dp[i] = dp[i-1]+nums[i]\n",
    "            else:\n",
    "                dp[i] = nums[i]\n",
    "            max_val = max(max_val, dp[i])\n",
    "        return max_val\n",
    "Solution().maxSubArray([-2,1,-3,4,-1,2,1,-5,4])"
   ]
  },
  {
   "cell_type": "code",
   "execution_count": 2,
   "metadata": {},
   "outputs": [
    {
     "data": {
      "text/plain": [
       "[4, 3, 2, 2]"
      ]
     },
     "execution_count": 2,
     "metadata": {},
     "output_type": "execute_result"
    }
   ],
   "source": [
    "\"66. Plus One\"\n",
    "\"\"\"Given a non-empty array of digits representing a non-negative integer, plus one to the integer.\n",
    "\n",
    "The digits are stored such that the most significant digit is at the head of the list, and each element in the array contain a single digit.\n",
    "\n",
    "You may assume the integer does not contain any leading zero, except the number 0 itself.\n",
    "\n",
    "Example 1:\n",
    "\n",
    "Input: [1,2,3]\n",
    "Output: [1,2,4]\n",
    "Explanation: The array represents the integer 123.\n",
    "Example 2:\n",
    "\n",
    "Input: [4,3,2,1]\n",
    "Output: [4,3,2,2]\n",
    "Explanation: The array represents the integer 4321.\"\"\"\n",
    "class Solution:\n",
    "    def plusOne(self, digits):\n",
    "        total = 0\n",
    "        output = []\n",
    "        for i in range(len(digits)):\n",
    "            total += digits[i]*10**(len(digits)-1-i)\n",
    "        return [int(i) for i in str(total+1)]\n",
    "Solution().plusOne([4,3,2,1])"
   ]
  },
  {
   "cell_type": "code",
   "execution_count": 7,
   "metadata": {},
   "outputs": [
    {
     "data": {
      "text/plain": [
       "[1, 2, 2, 3, 5, 6]"
      ]
     },
     "execution_count": 7,
     "metadata": {},
     "output_type": "execute_result"
    }
   ],
   "source": [
    "\"88. Merge Sorted Array\"\n",
    "\"\"\"Given two sorted integer arrays nums1 and nums2, merge nums2 into nums1 as one sorted array.\n",
    "\n",
    "Note:\n",
    "\n",
    "The number of elements initialized in nums1 and nums2 are m and n respectively.\n",
    "You may assume that nums1 has enough space (size that is greater or equal to m + n) to hold additional elements from nums2.\n",
    "Example:\n",
    "\n",
    "Input:\n",
    "nums1 = [1,2,3,0,0,0], m = 3\n",
    "nums2 = [2,5,6],       n = 3\n",
    "\n",
    "Output: [1,2,2,3,5,6]\"\"\"\n",
    "class Solution(object):\n",
    "    def merge(self, nums1, m, nums2, n):\n",
    "        \"\"\"\n",
    "        :type nums1: List[int]\n",
    "        :type m: int\n",
    "        :type nums2: List[int]\n",
    "        :type n: int\n",
    "        :rtype: None Do not return anything, modify nums1 in-place instead.\n",
    "        \"\"\"\n",
    "        curr = n+m-1\n",
    "        if m == 0:\n",
    "            for i in range(curr+1):\n",
    "                nums1[i] = nums2[i]\n",
    "            \n",
    "            n = 0\n",
    "        while m>0 or n>0:\n",
    "            a = nums2[n-1] if n-1>=0 else nums1[0]-1\n",
    "            b = nums1[m-1] if m-1>=0 else nums2[0]-1\n",
    "            if a>b:\n",
    "                nums1[curr] = a\n",
    "                n -= 1\n",
    "            else:\n",
    "                nums1[curr] = b\n",
    "                m -= 1\n",
    "            curr -= 1\n",
    "\n",
    "\n",
    "nums1 = [1,2,3,0,0,0]\n",
    "m = 3\n",
    "nums2 = [2,5,6]\n",
    "n = 3\n",
    "Solution().merge(nums1, m, nums2, n)\n",
    "nums1    "
   ]
  },
  {
   "cell_type": "code",
   "execution_count": 276,
   "metadata": {},
   "outputs": [
    {
     "data": {
      "text/plain": [
       "[[1], [1, 1], [1, 2, 1], [1, 3, 3, 1], [1, 4, 6, 4, 1]]"
      ]
     },
     "execution_count": 276,
     "metadata": {},
     "output_type": "execute_result"
    }
   ],
   "source": [
    "\"\"\"118. Pascal's Triangle\"\"\"\n",
    "\"\"\"Given a non-negative integer numRows, generate the first numRows of Pascal's triangle.\"\"\"\n",
    "\"\"\"Example:\n",
    "\n",
    "Input: 5\n",
    "Output:\n",
    "[\n",
    "     [1],\n",
    "    [1,1],\n",
    "   [1,2,1],\n",
    "  [1,3,3,1],\n",
    " [1,4,6,4,1]\n",
    "]\"\"\"\n",
    "class Solution(object):\n",
    "    def generate(self, numRows):\n",
    "        \"\"\"\n",
    "        :type numRows: int\n",
    "        :rtype: List[List[int]]\n",
    "        \"\"\"\n",
    "        res = [[1 for j in range(i)] for i in range(1, numRows + 1)]\n",
    "        for i in range(2, numRows):\n",
    "            for j in range(1, i):\n",
    "                res[i][j] = res[i - 1][j - 1] + res[i - 1][j]\n",
    "        return res\n",
    "\n",
    "Solution.generate('self',5)"
   ]
  },
  {
   "cell_type": "code",
   "execution_count": 230,
   "metadata": {},
   "outputs": [
    {
     "data": {
      "text/plain": [
       "[1, 3, 3, 1]"
      ]
     },
     "execution_count": 230,
     "metadata": {},
     "output_type": "execute_result"
    }
   ],
   "source": [
    "\"\"\"119. Pascal's Triangle II\"\"\"\n",
    "\"\"\"Given a non-negative index k where k ≤ 33, return the kth index row of the Pascal's triangle.\n",
    "\n",
    "Note that the row index starts from 0.\n",
    "Example:\n",
    "\n",
    "Input: 3\n",
    "Output: [1,3,3,1]\"\"\"\n",
    "class Solution:\n",
    "    def getRow(self, rowIndex):\n",
    "        result = [1]\n",
    "        if rowIndex == 0:\n",
    "            return result\n",
    "        else:\n",
    "            for k in range(rowIndex):\n",
    "                result = [1] + [result[i]+result[i+1] for i in range(len(result)-1)] + [1]   #recursive loop\n",
    "        return result\n",
    "\n",
    "Solution.getRow('self',3)"
   ]
  },
  {
   "cell_type": "code",
   "execution_count": 204,
   "metadata": {},
   "outputs": [
    {
     "data": {
      "text/plain": [
       "[1, 4, 6, 4, 1]"
      ]
     },
     "execution_count": 204,
     "metadata": {},
     "output_type": "execute_result"
    }
   ],
   "source": [
    "def getRow3(rowIndex):  #my solution, not efficient, call function several times\n",
    "    if rowIndex == 0:\n",
    "        return [1]\n",
    "    else:\n",
    "        res = [1 for i in range(rowIndex+1)]\n",
    "        for i in range(1,rowIndex):\n",
    "            res[i] = getRow3(rowIndex-1)[i-1] + getRow3(rowIndex-1)[i]\n",
    "    return res\n",
    "\n",
    "getRow3(4)"
   ]
  },
  {
   "cell_type": "code",
   "execution_count": 270,
   "metadata": {},
   "outputs": [
    {
     "data": {
      "text/plain": [
       "5"
      ]
     },
     "execution_count": 270,
     "metadata": {},
     "output_type": "execute_result"
    }
   ],
   "source": [
    "\"\"\"121. Best Time to Buy and Sell Stock\"\"\"\n",
    "\"\"\"Say you have an array for which the ith element is the price of a given stock on day i.\n",
    "\n",
    "If you were only permitted to complete at most one transaction (i.e., buy one and sell one share of the stock), \n",
    "design an algorithm to find the maximum profit.\n",
    "\n",
    "Note that you cannot sell a stock before you buy one.\n",
    "\n",
    "Example 1:\n",
    "\n",
    "Input: [7,1,5,3,6,4]\n",
    "Output: 5\n",
    "Explanation: Buy on day 2 (price = 1) and sell on day 5 (price = 6), profit = 6-1 = 5.\n",
    "             Not 7-1 = 6, as selling price needs to be larger than buying price.\n",
    "Example 2:\n",
    "\n",
    "Input: [7,6,4,3,1]\n",
    "Output: 0\n",
    "Explanation: In this case, no transaction is done, i.e. max profit = 0.\"\"\"\n",
    "class Solution(object):\n",
    "    def maxProfit(prices):\n",
    "        \"\"\"\n",
    "        :type prices: List[int]\n",
    "        :rtype: int\n",
    "        \"\"\"\n",
    "        if not prices:\n",
    "            return 0\n",
    "        profit = 0\n",
    "        cur_min = prices.pop(0)\n",
    "        for price in prices:\n",
    "            if price > cur_min:\n",
    "                profit = max(profit, price-cur_min)\n",
    "            else:\n",
    "                cur_min = price\n",
    "        return profit\n",
    "\n",
    "Solution.maxProfit([7,1,5,3,6,4])"
   ]
  },
  {
   "cell_type": "code",
   "execution_count": 277,
   "metadata": {},
   "outputs": [
    {
     "data": {
      "text/plain": [
       "5"
      ]
     },
     "execution_count": 277,
     "metadata": {},
     "output_type": "execute_result"
    }
   ],
   "source": [
    "\"\"\"My solution, time limit exceed, too many for loops\"\"\"\n",
    "def maxProfit(prices):\n",
    "    maxi = 0\n",
    "    for i,n in enumerate(prices):\n",
    "        for q in range(i+1,len(prices)):\n",
    "            maxi = max(prices[q] -n, maxi)\n",
    "    return maxi\n",
    "\n",
    "maxProfit([7,1,5,3,6,4])\n",
    "\n",
    "# maxProfit([7,6,4,3,1])"
   ]
  },
  {
   "cell_type": "code",
   "execution_count": 280,
   "metadata": {},
   "outputs": [
    {
     "data": {
      "text/plain": [
       "7"
      ]
     },
     "metadata": {},
     "output_type": "display_data"
    },
    {
     "data": {
      "text/plain": [
       "4"
      ]
     },
     "execution_count": 280,
     "metadata": {},
     "output_type": "execute_result"
    }
   ],
   "source": [
    "\"\"\"122. Best Time to Buy and Sell Stock II\"\"\"\n",
    "\"\"\"Say you have an array prices for which the ith element is the price of a given stock on day i.\n",
    "\n",
    "Design an algorithm to find the maximum profit. You may complete as many transactions as you like \n",
    "(i.e., buy one and sell one share of the stock multiple times).\n",
    "\n",
    "Note: You may not engage in multiple transactions at the same time (i.e., you must sell the stock \n",
    "before you buy again).\n",
    "\n",
    "Example 1:\n",
    "\n",
    "Input: [7,1,5,3,6,4]\n",
    "Output: 7\n",
    "Explanation: Buy on day 2 (price = 1) and sell on day 3 (price = 5), profit = 5-1 = 4.\n",
    "             Then buy on day 4 (price = 3) and sell on day 5 (price = 6), profit = 6-3 = 3.\n",
    "Example 2:\n",
    "\n",
    "Input: [1,2,3,4,5]\n",
    "Output: 4\n",
    "Explanation: Buy on day 1 (price = 1) and sell on day 5 (price = 5), profit = 5-1 = 4.\n",
    "             Note that you cannot buy on day 1, buy on day 2 and sell them later, as you are\n",
    "             engaging multiple transactions at the same time. You must sell before buying again.\n",
    "Example 3:\n",
    "\n",
    "Input: [7,6,4,3,1]\n",
    "Output: 0\n",
    "Explanation: In this case, no transaction is done, i.e. max profit = 0.\n",
    " \n",
    "\n",
    "Constraints:\n",
    "\n",
    "1 <= prices.length <= 3 * 10 ^ 4\n",
    "0 <= prices[i] <= 10 ^ 4\"\"\"\n",
    "class Solution:\n",
    "    def maxProfit(prices):      #只计算正向的profit相加\n",
    "        \"\"\"\n",
    "        :type prices: List[int]\n",
    "        :rtype: int\n",
    "        \"\"\"\n",
    "        if len(prices)<2:\n",
    "            return 0\n",
    "        total = 0\n",
    "        for i in range(1, len(prices)):\n",
    "            profit = prices[i] - prices[i-1]\n",
    "            if profit>0:\n",
    "                total += profit\n",
    "        return total\n",
    "display(Solution.maxProfit([7,1,5,3,6,4]))\n",
    "Solution.maxProfit([1,2,3,4,5])"
   ]
  },
  {
   "cell_type": "code",
   "execution_count": 342,
   "metadata": {},
   "outputs": [
    {
     "data": {
      "text/plain": [
       "[1, 2]"
      ]
     },
     "execution_count": 342,
     "metadata": {},
     "output_type": "execute_result"
    }
   ],
   "source": [
    "\"\"\"167. Two Sum II - Input array is sorted\"\"\"\n",
    "\"\"\"Given an array of integers that is already sorted in ascending order, find two numbers such \n",
    "that they add up to a specific target number.\n",
    "\n",
    "The function twoSum should return indices of the two numbers such that they add up to the target, \n",
    "where index1 must be less than index2.\n",
    "\n",
    "Note:\n",
    "\n",
    "Your returned answers (both index1 and index2) are not zero-based.\n",
    "You may assume that each input would have exactly one solution and you may not use the same element twice.\n",
    "Example:\n",
    "\n",
    "Input: numbers = [2,7,11,15], target = 9\n",
    "Output: [1,2]\n",
    "Explanation: The sum of 2 and 7 is 9. Therefore index1 = 1, index2 = 2.\"\"\"\n",
    "class Solution:\n",
    "    def twoSum2(numbers, target):\n",
    "        seen = {}\n",
    "        for i in range(len(numbers)):\n",
    "            remainder = target - numbers[i]\n",
    "            if numbers[i] in seen:\n",
    "                return [seen[numbers[i]],i+1]\n",
    "            seen[remainder] = i+1\n",
    "Solution.twoSum2([2,7,11,15],9)"
   ]
  },
  {
   "cell_type": "code",
   "execution_count": 339,
   "metadata": {},
   "outputs": [
    {
     "data": {
      "text/plain": [
       "[1, 2]"
      ]
     },
     "execution_count": 339,
     "metadata": {},
     "output_type": "execute_result"
    }
   ],
   "source": [
    "def twoSum(numbers, target):\n",
    "    for i,v in enumerate(numbers):\n",
    "        if v <= target:\n",
    "            remainder = target - v\n",
    "            if remainder in numbers and remainder != v:\n",
    "                return [i+1, numbers.index(remainder)+1]\n",
    "twoSum([2,7,11,15],9)"
   ]
  },
  {
   "cell_type": "code",
   "execution_count": 360,
   "metadata": {},
   "outputs": [
    {
     "data": {
      "text/plain": [
       "2"
      ]
     },
     "execution_count": 360,
     "metadata": {},
     "output_type": "execute_result"
    }
   ],
   "source": [
    "\"\"\"169. Majority Element\"\"\"\n",
    "\"\"\"Given an array of size n, find the majority element. The majority element is the element that appears more than ⌊ n/2 ⌋ times.\n",
    "\n",
    "You may assume that the array is non-empty and the majority element always exist in the array.\n",
    "\n",
    "Example 1:\n",
    "\n",
    "Input: [3,2,3]\n",
    "Output: 3\n",
    "Example 2:\n",
    "\n",
    "Input: [2,2,1,1,1,2,2]\n",
    "Output: 2\"\"\"\n",
    "class Solution:\n",
    "    def majorityElement(nums):\n",
    "        dic = {k:0 for k in set(nums)}\n",
    "        for i in nums:\n",
    "            dic[i] += 1\n",
    "        for k,v in dic.items():\n",
    "            if v>=len(nums)/2:\n",
    "                return k\n",
    "Solution.majorityElement([2,2,1,1,1,2,2])"
   ]
  },
  {
   "cell_type": "code",
   "execution_count": 387,
   "metadata": {},
   "outputs": [],
   "source": [
    "\"\"\"189. Rotate Array\"\"\"\n",
    "\"\"\"Given an array, rotate the array to the right by k steps, where k is non-negative.\n",
    "\n",
    "Follow up:\n",
    "\n",
    "Try to come up as many solutions as you can, there are at least 3 different ways to solve this problem.\n",
    "Could you do it in-place with O(1) extra space?\n",
    " \n",
    "\n",
    "Example 1:\n",
    "\n",
    "Input: nums = [1,2,3,4,5,6,7], k = 3\n",
    "Output: [5,6,7,1,2,3,4]\n",
    "Explanation:\n",
    "rotate 1 steps to the right: [7,1,2,3,4,5,6]\n",
    "rotate 2 steps to the right: [6,7,1,2,3,4,5]\n",
    "rotate 3 steps to the right: [5,6,7,1,2,3,4]\n",
    "Example 2:\n",
    "\n",
    "Input: nums = [-1,-100,3,99], k = 2\n",
    "Output: [3,99,-1,-100]\n",
    "Explanation: \n",
    "rotate 1 steps to the right: [99,-1,-100,3]\n",
    "rotate 2 steps to the right: [3,99,-1,-100]\"\"\"\n",
    "\n",
    "\"\"\"Approach 1: Brute Force\"\"\"\n",
    "class Solution:\n",
    "    def rotate(nums, k):\n",
    "        # speed up the rotation\n",
    "        k %= len(nums)\n",
    "\n",
    "        for i in range(k):\n",
    "            previous = nums[-1]\n",
    "            for j in range(len(nums)):\n",
    "                nums[j], previous = previous, nums[j]\n",
    "                \n",
    "\"\"\"Approach 2: Using Extra Array\"\"\"               \n",
    "class Solution:\n",
    "    def rotate(nums, k):\n",
    "        n = len(nums)\n",
    "        a = [0] * n\n",
    "        for i in range(n):\n",
    "            a[(i + k) % n] = nums[i]\n",
    "            \n",
    "        nums[:] = a\n",
    "        \n",
    "\"\"\"Approach 3: Using Cyclic Replacements\"\"\"\n",
    "class Solution:\n",
    "    def rotate(nums, k):\n",
    "        n = len(nums)\n",
    "        k %= n\n",
    "        \n",
    "        start = count = 0\n",
    "        while count < n:\n",
    "            current, prev = start, nums[start]\n",
    "            while True:\n",
    "                next_idx = (current + k) % n\n",
    "                nums[next_idx], prev = prev, nums[next_idx]\n",
    "                current = next_idx\n",
    "                count += 1\n",
    "                \n",
    "                if start == current:\n",
    "                    break\n",
    "            start += 1\n",
    "Solution.rotate([1,2,3,4,5,6,7],3)"
   ]
  },
  {
   "cell_type": "code",
   "execution_count": 388,
   "metadata": {},
   "outputs": [
    {
     "name": "stdout",
     "output_type": "stream",
     "text": [
      "[5, 6, 7, 1, 2, 3, 4]\n"
     ]
    }
   ],
   "source": [
    "\"\"\"My solution\"\"\"\n",
    "def rotate(nums, k):\n",
    "    for i in range(1,k+1):\n",
    "        p = nums.pop()\n",
    "        nums = [p] + nums\n",
    "    print(nums)\n",
    "\n",
    "rotate([1,2,3,4,5,6,7],3)"
   ]
  },
  {
   "cell_type": "code",
   "execution_count": 392,
   "metadata": {},
   "outputs": [
    {
     "data": {
      "text/plain": [
       "True"
      ]
     },
     "execution_count": 392,
     "metadata": {},
     "output_type": "execute_result"
    }
   ],
   "source": [
    "\"217. Contains Duplicate\" \"also in Hash Table\"\n",
    "\"\"\"Given an array of integers, find if the array contains any duplicates.\n",
    "\n",
    "Your function should return true if any value appears at least twice in the array, \n",
    "and it should return false if every element is distinct.\n",
    "\n",
    "Example 1:\n",
    "\n",
    "Input: [1,2,3,1]\n",
    "Output: true\n",
    "Example 2:\n",
    "\n",
    "Input: [1,2,3,4]\n",
    "Output: false\n",
    "Example 3:\n",
    "\n",
    "Input: [1,1,1,3,3,4,3,2,4,2]\n",
    "Output: true\"\"\"\n",
    "class Solution:\n",
    "    def containsDuplicate(nums):\n",
    "        return len(set(nums)) != len(nums)\n",
    "Solution.containsDuplicate([1,1,1,3,3,4,3,2,4,2])"
   ]
  },
  {
   "cell_type": "code",
   "execution_count": 419,
   "metadata": {},
   "outputs": [
    {
     "name": "stdout",
     "output_type": "stream",
     "text": [
      "{}\n",
      "{1: 0}\n",
      "{1: 0, 2: 1}\n",
      "{1: 0, 2: 1, 3: 2}\n",
      "{1: 3, 2: 1, 3: 2}\n",
      "{1: 3, 2: 4, 3: 2}\n"
     ]
    },
    {
     "data": {
      "text/plain": [
       "False"
      ]
     },
     "execution_count": 419,
     "metadata": {},
     "output_type": "execute_result"
    }
   ],
   "source": [
    "\"219. Contains Duplicate II\" \"also in Hash Table\"\n",
    "\"\"\"Given an array of integers and an integer k, find out whether there are two distinct \n",
    "indices i and j in the array such that nums[i] = nums[j] and the absolute difference between i and j is at most k.\n",
    "\n",
    "Example 1:\n",
    "\n",
    "Input: nums = [1,2,3,1], k = 3\n",
    "Output: true\n",
    "Example 2:\n",
    "\n",
    "Input: nums = [1,0,1,1], k = 1\n",
    "Output: true\n",
    "Example 3:\n",
    "\n",
    "Input: nums = [1,2,3,1,2,3], k = 2\n",
    "Output: false\"\"\"\n",
    "class Solution(object):\n",
    "    def containsNearbyDuplicate(nums, k):  #*相邻*的两个等数index的差\n",
    "        \"\"\"\n",
    "        :type nums: List[int]\n",
    "        :type k: int\n",
    "        :rtype: bool\n",
    "        \"\"\"\n",
    "        record = dict()\n",
    "        for i, num in enumerate(nums):\n",
    "            print(record)\n",
    "            if record.get(num, -1) != -1:\n",
    "                if i - record[num] <= k:\n",
    "                    return True\n",
    "            record[num] = i\n",
    "        return False\n",
    "Solution.containsNearbyDuplicate([1,2,3,1,2,3], 2)"
   ]
  },
  {
   "cell_type": "code",
   "execution_count": 420,
   "metadata": {},
   "outputs": [
    {
     "data": {
      "text/plain": [
       "False"
      ]
     },
     "execution_count": 420,
     "metadata": {},
     "output_type": "execute_result"
    }
   ],
   "source": [
    "\"\"\"My Solution, exceed time limit\"\"\"\n",
    "def containsNearbyDuplicate(nums,k):\n",
    "    for i in range(len(nums)):\n",
    "        for j in range(len(nums)):\n",
    "            if i < j and nums[i] == nums[j] and j-i <=k:\n",
    "                return True\n",
    "    return False     \n",
    "containsNearbyDuplicate([1,2,3,1,2,3], 2)"
   ]
  },
  {
   "cell_type": "code",
   "execution_count": 429,
   "metadata": {},
   "outputs": [
    {
     "data": {
      "text/plain": [
       "3"
      ]
     },
     "execution_count": 429,
     "metadata": {},
     "output_type": "execute_result"
    }
   ],
   "source": [
    "\"\"\"243. Shortest Word Distance\"\"\"\n",
    "\"\"\"给定一个单词列表和两个单词 word1 和 word2，返回列表中这两个单词之间的最短距离。\n",
    "示例:\n",
    "假设 words = [\"practice\", \"makes\", \"perfect\", \"coding\", \"makes\"]\n",
    "\n",
    "输入: word1 = “coding”, word2 = “practice”\n",
    "\n",
    "输出: 3\n",
    "输入: word1 = \"makes\", word2 = \"coding\"\n",
    "\n",
    "输出: 1\"\"\"\n",
    "class Solution(object):\n",
    "    def shortestDistance(words, word1, word2):\n",
    "        \"\"\"\n",
    "        :type words: List[str]\n",
    "        :type word1: str\n",
    "        :type word2: str\n",
    "        :rtype: int\n",
    "        \"\"\"\n",
    "        res = len(words) - 1\n",
    "        pos1, pos2 = -1, -1\n",
    "        for i, word in enumerate(words):\n",
    "            if word == word1:\n",
    "                pos1 = i\n",
    "            elif word == word2:\n",
    "                pos2 = i\n",
    "            if pos1 != -1 and pos2 != -1:\n",
    "                res = min(res, abs(pos1 - pos2))\n",
    "        return res\n",
    "Solution.shortestDistance([\"practice\", \"makes\", \"perfect\", \"coding\", \"makes\"],'coding', 'practice')"
   ]
  },
  {
   "cell_type": "code",
   "execution_count": 428,
   "metadata": {},
   "outputs": [
    {
     "data": {
      "text/plain": [
       "3"
      ]
     },
     "execution_count": 428,
     "metadata": {},
     "output_type": "execute_result"
    }
   ],
   "source": [
    "\"\"\"My solution\"\"\"\n",
    "def shortestDistance(words,word1,word2):\n",
    "    word = {v:k for k,v in enumerate(words)}\n",
    "    return abs(word[word1]-word[word2])\n",
    "\n",
    "words = [\"practice\", \"makes\", \"perfect\", \"coding\", \"makes\"]\n",
    "shortestDistance(words,'coding', 'practice')"
   ]
  },
  {
   "cell_type": "code",
   "execution_count": 435,
   "metadata": {},
   "outputs": [
    {
     "data": {
      "text/plain": [
       "2"
      ]
     },
     "execution_count": 435,
     "metadata": {},
     "output_type": "execute_result"
    }
   ],
   "source": [
    "\"\"\"268. Missing Number\"\"\"\n",
    "\"\"\"Given an array containing n distinct numbers taken from 0, 1, 2, ..., n, \n",
    "find the one that is missing from the array.\n",
    "\n",
    "Example 1:\n",
    "\n",
    "Input: [3,0,1]\n",
    "Output: 2\n",
    "Example 2:\n",
    "\n",
    "Input: [9,6,4,2,3,5,7,0,1]\n",
    "Output: 8\"\"\"\n",
    "class Solution:\n",
    "    def missingNumber(nums):\n",
    "        for i in range(len(nums)+1):\n",
    "            if i not in nums:\n",
    "                return i\n",
    "Solution.missingNumber([3,0,1])"
   ]
  },
  {
   "cell_type": "code",
   "execution_count": 448,
   "metadata": {},
   "outputs": [
    {
     "data": {
      "text/plain": [
       "[1, 3, 12, 0, 0]"
      ]
     },
     "execution_count": 448,
     "metadata": {},
     "output_type": "execute_result"
    }
   ],
   "source": [
    "\"\"\"283. Move Zeroes\"\"\"\n",
    "\"\"\"Given an array nums, write a function to move all 0's to the end of it\n",
    "while maintaining the relative order of the non-zero elements.\n",
    "\n",
    "Example:\n",
    "\n",
    "Input: [0,1,0,3,12]\n",
    "Output: [1,3,12,0,0]\n",
    "Note:\n",
    "\n",
    "You must do this in-place without making a copy of the array.\n",
    "Minimize the total number of operations.\"\"\"\n",
    "class Solution:\n",
    "    def moveZeros(nums):\n",
    "        a = [0]*len(nums)\n",
    "        k = 0\n",
    "        for i,v in enumerate(nums):\n",
    "            if v !=0:\n",
    "                a[k] = v\n",
    "                k = k+1\n",
    "        nums[:] = a[:]\n",
    "        return nums\n",
    "\n",
    "Solution.moveZeros([0,1,0,3,12])"
   ]
  },
  {
   "cell_type": "code",
   "execution_count": 472,
   "metadata": {},
   "outputs": [
    {
     "data": {
      "text/plain": [
       "1"
      ]
     },
     "execution_count": 472,
     "metadata": {},
     "output_type": "execute_result"
    }
   ],
   "source": [
    "\"\"\"414. Third Maximum Number\"\"\"\n",
    "\"\"\"Given a non-empty array of integers, return the third maximum number in this array. \n",
    "If it does not exist, return the maximum number. The time complexity must be in O(n).\n",
    "\n",
    "Example 1:\n",
    "Input: [3, 2, 1]\n",
    "Output: 1\n",
    "Explanation: The third maximum is 1.\n",
    "Example 2:\n",
    "Input: [1, 2]\n",
    "Output: 2\n",
    "Explanation: The third maximum does not exist, so the maximum (2) is returned instead.\n",
    "Example 3:\n",
    "Input: [2, 2, 3, 1]\n",
    "Output: 1\n",
    "Explanation: Note that the third maximum here means the third maximum distinct number.\n",
    "Both numbers with value 2 are both considered as second maximum.\"\"\"\n",
    "class Solution:\n",
    "    def thirdMax(nums):\n",
    "        nums = list(set(nums))\n",
    "        if len(nums)<=2:\n",
    "            return max(nums)\n",
    "        for i in range(2):\n",
    "            nums.remove(max(nums))\n",
    "        return max(nums)\n",
    "\n",
    "thirdMax([2, 2, 3, 1])"
   ]
  },
  {
   "cell_type": "code",
   "execution_count": 494,
   "metadata": {},
   "outputs": [
    {
     "data": {
      "text/plain": [
       "[5, 6]"
      ]
     },
     "execution_count": 494,
     "metadata": {},
     "output_type": "execute_result"
    }
   ],
   "source": [
    "\"\"\"448. Find All Numbers Disappeared in an Array\"\"\"\n",
    "\"\"\"Given an array of integers where 1 ≤ a[i] ≤ n (n = size of array), some elements appear \n",
    "twice and others appear once.\n",
    "\n",
    "Find all the elements of [1, n] inclusive that do not appear in this array.\n",
    "\n",
    "Could you do it without extra space and in O(n) runtime? You may assume the returned list \n",
    "does not count as extra space.\n",
    "\n",
    "Example:\n",
    "\n",
    "Input:\n",
    "[4,3,2,7,8,2,3,1]\n",
    "\n",
    "Output:\n",
    "[5,6]\"\"\"\n",
    "class Solution:\n",
    "    def findDisappearedNumbers(nums):\n",
    "        n = len(nums)\n",
    "        nums1 = set(nums)\n",
    "        return [i for i in range(1,n+1) if i not in nums1]\n",
    "\n",
    "findDisappearedNumbers([4,3,2,7,8,2,3,1])"
   ]
  },
  {
   "cell_type": "code",
   "execution_count": 515,
   "metadata": {},
   "outputs": [
    {
     "data": {
      "text/plain": [
       "3"
      ]
     },
     "execution_count": 515,
     "metadata": {},
     "output_type": "execute_result"
    }
   ],
   "source": [
    "\"\"\"485. Max Consecutive Ones\"\"\"\n",
    "\"\"\"Given a binary array, find the maximum number of consecutive 1s in this array.\n",
    "\n",
    "Example 1:\n",
    "\n",
    "Input: [1,1,0,1,1,1]\n",
    "Output: 3\n",
    "Explanation: The first two digits or the last three digits are consecutive 1s.\n",
    "    The maximum number of consecutive 1s is 3.\n",
    "Note:\n",
    "\n",
    "The input array will only contain 0 and 1.\n",
    "The length of input array is a positive integer and will not exceed 10,000\"\"\"\n",
    "class Solution:\n",
    "    def findMaxConsecutiveOnes(nums):\n",
    "        count = 0\n",
    "        maxcount = 0\n",
    "        for i in nums:\n",
    "            if i == 1:\n",
    "                count+=1\n",
    "                if count > maxcount:\n",
    "                    maxcount = count\n",
    "            else:\n",
    "                count =0\n",
    "        return maxcount\n",
    "Solution.findMaxConsecutiveOnes([1,1,0,1,1,1])"
   ]
  },
  {
   "cell_type": "code",
   "execution_count": 519,
   "metadata": {},
   "outputs": [
    {
     "data": {
      "text/plain": [
       "3"
      ]
     },
     "execution_count": 519,
     "metadata": {},
     "output_type": "execute_result"
    }
   ],
   "source": [
    "\"\"\"509. Fibonacci Number\"\"\"\n",
    "\"\"\"The Fibonacci numbers, commonly denoted F(n) form a sequence, called the Fibonacci sequence, \n",
    "such that each number is the sum of the two preceding ones, starting from 0 and 1. That is,\n",
    "\n",
    "F(0) = 0,   F(1) = 1\n",
    "F(N) = F(N - 1) + F(N - 2), for N > 1.\n",
    "Given N, calculate F(N).\n",
    "\n",
    "Example 1:\n",
    "\n",
    "Input: 2\n",
    "Output: 1\n",
    "Explanation: F(2) = F(1) + F(0) = 1 + 0 = 1.\n",
    "Example 2:\n",
    "\n",
    "Input: 3\n",
    "Output: 2\n",
    "Explanation: F(3) = F(2) + F(1) = 1 + 1 = 2.\n",
    "Example 3:\n",
    "\n",
    "Input: 4\n",
    "Output: 3\n",
    "Explanation: F(4) = F(3) + F(2) = 2 + 1 = 3.\n",
    " \n",
    "\n",
    "Note:\n",
    "0 ≤ N ≤ 30.\"\"\"\n",
    "class Solution:\n",
    "    def fib(N):\n",
    "        if (N <= 1):\n",
    "            return N\n",
    "        if (N == 2):\n",
    "            return 1\n",
    "        current = 0\n",
    "        prev1 = 1\n",
    "        prev2 = 1\n",
    "\n",
    "        # Since range is exclusive and we want to include N, we need to put N+1.\n",
    "        for i in range(3, N+1):\n",
    "            current = prev1 + prev2\n",
    "            prev2 = prev1\n",
    "            prev1 = current\n",
    "        return current\n",
    "Solution.fib(4)"
   ]
  },
  {
   "cell_type": "code",
   "execution_count": 520,
   "metadata": {},
   "outputs": [
    {
     "data": {
      "text/plain": [
       "3"
      ]
     },
     "execution_count": 520,
     "metadata": {},
     "output_type": "execute_result"
    }
   ],
   "source": [
    "\"\"\"My solution, too slow\"\"\"\n",
    "def fib(N):\n",
    "    if N <= 1:\n",
    "        return N\n",
    "    return fib(N-1)+fib(N-2)\n",
    "\n",
    "fib(4)"
   ]
  },
  {
   "cell_type": "code",
   "execution_count": 535,
   "metadata": {},
   "outputs": [
    {
     "data": {
      "text/plain": [
       "2"
      ]
     },
     "execution_count": 535,
     "metadata": {},
     "output_type": "execute_result"
    }
   ],
   "source": [
    "\"\"\"532. K-diff Pairs in an Array\"\"\"\n",
    "\"\"\"Given an array of integers and an integer k, you need to find the number of unique \n",
    "k-diff pairs in the array. Here a k-diff pair is defined as an integer pair (i, j), where \n",
    "i and j are both numbers in the array and their absolute difference is k.\n",
    "\n",
    "Example 1:\n",
    "\n",
    "Input: [3, 1, 4, 1, 5], k = 2\n",
    "Output: 2\n",
    "Explanation: There are two 2-diff pairs in the array, (1, 3) and (3, 5).\n",
    "Although we have two 1s in the input, we should only return the number of unique pairs.\n",
    "Example 2:\n",
    "\n",
    "Input:[1, 2, 3, 4, 5], k = 1\n",
    "Output: 4\n",
    "Explanation: There are four 1-diff pairs in the array, (1, 2), (2, 3), (3, 4) and (4, 5).\n",
    "Example 3:\n",
    "\n",
    "Input: [1, 3, 1, 5, 4], k = 0\n",
    "Output: 1\n",
    "Explanation: There is one 0-diff pair in the array, (1, 1).\n",
    "Note:\n",
    "\n",
    "The pairs (i, j) and (j, i) count as the same pair.\n",
    "The length of the array won't exceed 10,000.\n",
    "All the integers in the given input belong to the range: [-1e7, 1e7].\"\"\"\n",
    "class Solution:\n",
    "    def findPairs(nums, k):\n",
    "        count=0\n",
    "        list_nums = set(nums)\n",
    "        if k == 0:\n",
    "            for i in list_nums:\n",
    "                if nums.count(i)>1:\n",
    "                    count+=1\n",
    "            return count\n",
    "        elif k > 0:\n",
    "            for i in list_nums:\n",
    "                if i+k in list_nums:\n",
    "                    count+=1\n",
    "        return count\n",
    "Solution.findPairs([1,1,1,2,2], 0)"
   ]
  },
  {
   "cell_type": "code",
   "execution_count": 550,
   "metadata": {},
   "outputs": [
    {
     "data": {
      "text/plain": [
       "4"
      ]
     },
     "execution_count": 550,
     "metadata": {},
     "output_type": "execute_result"
    }
   ],
   "source": [
    "\"\"\"561. Array Partition I\"\"\"\n",
    "\"\"\"Given an array of 2n integers, your task is to group these integers into \n",
    "n pairs of integer, say (a1, b1), (a2, b2), ..., (an, bn) which makes sum of \n",
    "min(ai, bi) for all i from 1 to n as large as possible.\n",
    "\n",
    "Example 1:\n",
    "\n",
    "Input: [1,4,3,2]\n",
    "\n",
    "Output: 4\n",
    "Explanation: n is 2, and the maximum sum of pairs is 4 = min(1, 2) + min(3, 4).\n",
    "Note:\n",
    "\n",
    "n is a positive integer, which is in the range of [1, 10000].\n",
    "All the integers in the array will be in the range of [-10000, 10000].\"\"\"\n",
    "class Solution:\n",
    "    def arrayPairSum(nums):\n",
    "        nums.sort()\n",
    "        return sum(nums[::2])\n",
    "Solution.arrayPairSum([1,4,3,2])"
   ]
  },
  {
   "cell_type": "code",
   "execution_count": 549,
   "metadata": {},
   "outputs": [
    {
     "data": {
      "text/plain": [
       "4"
      ]
     },
     "execution_count": 549,
     "metadata": {},
     "output_type": "execute_result"
    }
   ],
   "source": [
    "\"\"\"My solution\"\"\"\n",
    "def arrayPairSum(nums):\n",
    "    nums = sorted(nums)\n",
    "    return sum([v for i,v in enumerate(nums) if i % 2 == 0])\n",
    "\n",
    "arrayPairSum([1,4,3,2])"
   ]
  },
  {
   "cell_type": "code",
   "execution_count": 599,
   "metadata": {},
   "outputs": [
    {
     "data": {
      "text/plain": [
       "[[1, 2], [3, 4]]"
      ]
     },
     "execution_count": 599,
     "metadata": {},
     "output_type": "execute_result"
    }
   ],
   "source": [
    "\"\"\"566. Reshape the Matrix\"\"\"\n",
    "\"\"\"n MATLAB, there is a very useful function called 'reshape', which can reshape \n",
    "a matrix into a new one with different size but keep its original data.\n",
    "\n",
    "You're given a matrix represented by a two-dimensional array, and two positive \n",
    "integers r and c representing the row number and column number of the wanted reshaped matrix, respectively.\n",
    "\n",
    "The reshaped matrix need to be filled with all the elements of the original matrix \n",
    "in the same row-traversing order as they were.\n",
    "\n",
    "If the 'reshape' operation with given parameters is possible and legal, output the \n",
    "new reshaped matrix; Otherwise, output the original matrix.\n",
    "\n",
    "Example 1:\n",
    "\n",
    "Input: \n",
    "nums = \n",
    "[[1,2],\n",
    " [3,4]]\n",
    "r = 1, c = 4\n",
    "Output: \n",
    "[[1,2,3,4]]\n",
    "Explanation:\n",
    "The row-traversing of nums is [1,2,3,4]. The new reshaped matrix is a 1 * 4 matrix, \n",
    "fill it row by row by using the previous list.\n",
    "Example 2:\n",
    "\n",
    "Input: \n",
    "nums = \n",
    "[[1,2],\n",
    " [3,4]]\n",
    "r = 2, c = 4\n",
    "Output: \n",
    "[[1,2],\n",
    " [3,4]]\n",
    "Explanation:\n",
    "There is no way to reshape a 2 * 2 matrix to a 2 * 4 matrix. So output the original matrix.\n",
    "Note:\n",
    "\n",
    "The height and width of the given matrix is in range [1, 100].\n",
    "The given r and c are all positive.\"\"\"\n",
    "class Solution:\n",
    "    def matrixReshape(nums, r, c):\n",
    "        A = [x for row in nums for x in row ]\n",
    "        if r * c == len(A):\n",
    "            return [A[i*c : (i + 1)*c] for i in range(r) ]\n",
    "        else:\n",
    "            return nums\n",
    "Solution.matrixReshape([[1,2,3,4]],2,2)"
   ]
  },
  {
   "cell_type": "code",
   "execution_count": 601,
   "metadata": {},
   "outputs": [
    {
     "data": {
      "text/plain": [
       "[[1, 2, 3, 4]]"
      ]
     },
     "execution_count": 601,
     "metadata": {},
     "output_type": "execute_result"
    }
   ],
   "source": [
    "\"\"\"My Solution\"\"\"\n",
    "def matrixReshape(nums, r, c):\n",
    "    nums_str = [i for row in nums for i in row]\n",
    "    if len(nums_str) != r*c:\n",
    "        return nums\n",
    "    k = 0\n",
    "    a = [[1 for i in range(c)] for j in range(r)]\n",
    "    for i in range(r):\n",
    "        for j in range(c):\n",
    "            a[i][j] = nums_str[k]\n",
    "            k += 1\n",
    "    return a\n",
    "\n",
    "matrixReshape([[1,2],[3,4]],1,4)"
   ]
  },
  {
   "cell_type": "code",
   "execution_count": 619,
   "metadata": {},
   "outputs": [
    {
     "data": {
      "text/plain": [
       "5"
      ]
     },
     "execution_count": 619,
     "metadata": {},
     "output_type": "execute_result"
    }
   ],
   "source": [
    "\"\"\"581. Shortest Unsorted Continuous Subarray\"\"\"\n",
    "\"\"\"Given an integer array, you need to find one continuous subarray that if you only sort this \n",
    "subarray in ascending order, then the whole array will be sorted in ascending order, too.\n",
    "\n",
    "You need to find the shortest such subarray and output its length.\n",
    "\n",
    "Example 1:\n",
    "\n",
    "Input: [2, 6, 4, 8, 10, 9, 15]\n",
    "Output: 5\n",
    "Explanation: You need to sort [6, 4, 8, 10, 9] in ascending order to make the whole array sorted in ascending order.\n",
    "Note:\n",
    "\n",
    "Then length of the input array is in range [1, 10,000].\n",
    "The input array may contain duplicates, so ascending order here means <=.\"\"\"\n",
    "class Solution:\n",
    "    def findUnsortedSubarray(nums):\n",
    "        nums_sort = sorted(nums)\n",
    "        if nums == nums_sort:\n",
    "            return 0\n",
    "        n = len(nums)\n",
    "        for i in range(n):\n",
    "            if nums[i] != nums_sort[i]:\n",
    "                for j in range(n):\n",
    "                    if nums[n-j-1] != nums_sort[n-j-1]:\n",
    "                        return len(nums[i:n-j])\n",
    "Solution.findUnsortedSubarray([2, 6, 4, 8, 10, 9, 15])"
   ]
  },
  {
   "cell_type": "code",
   "execution_count": 621,
   "metadata": {},
   "outputs": [
    {
     "data": {
      "text/plain": [
       "True"
      ]
     },
     "execution_count": 621,
     "metadata": {},
     "output_type": "execute_result"
    }
   ],
   "source": [
    "\"\"\"605. Can Place Flowers\"\"\"\n",
    "\"\"\"Suppose you have a long flowerbed in which some of the plots are planted and some are not. \n",
    "However, flowers cannot be planted in adjacent plots - they would compete for water and both would die.\n",
    "\n",
    "Given a flowerbed (represented as an array containing 0 and 1, where 0 means empty and 1 means \n",
    "not empty), and a number n, return if n new flowers can be planted in it without violating the \n",
    "no-adjacent-flowers rule.\n",
    "\n",
    "Example 1:\n",
    "\n",
    "Input: flowerbed = [1,0,0,0,1], n = 1\n",
    "Output: True\n",
    "Example 2:\n",
    "\n",
    "Input: flowerbed = [1,0,0,0,1], n = 2\n",
    "Output: False\"\"\"\n",
    "class Solution(object):\n",
    "    def canPlaceFlowers(flowerbed, n):\n",
    "        \"\"\"\n",
    "        :type flowerbed: List[int]\n",
    "        :type n: int\n",
    "        :rtype: bool\n",
    "        \"\"\"\n",
    "        res = 0\n",
    "        for i, num in enumerate(flowerbed):\n",
    "            if num == 1: continue\n",
    "            if i > 0 and flowerbed[i - 1] == 1: continue\n",
    "            if i < len(flowerbed) - 1 and flowerbed[i + 1] == 1: continue\n",
    "            flowerbed[i] = 1\n",
    "            res += 1\n",
    "        return res>=n\n",
    "Solution.canPlaceFlowers([1,0,0,0,1], 1)"
   ]
  },
  {
   "cell_type": "code",
   "execution_count": 642,
   "metadata": {},
   "outputs": [
    {
     "data": {
      "text/plain": [
       "4"
      ]
     },
     "execution_count": 642,
     "metadata": {},
     "output_type": "execute_result"
    }
   ],
   "source": [
    "\"\"\"624. Maximum Distance in Arrays, also in hashtable\"\"\"\n",
    "\"\"\"Given m arrays, and each array is sorted in ascending order. \n",
    "Now you can pick up two integers from two different arrays (each array picks one) and \n",
    "calculate the distance. We define the distance between two integers a and b to be their \n",
    "absolute difference |a-b|. Your task is to find the maximum distance.\n",
    "\n",
    "Example 1:\n",
    "Input: \n",
    "[[1,2,3],\n",
    " [4,5],\n",
    " [1,2,3]]\n",
    "Output: 4\n",
    "1\n",
    "2\n",
    "3\n",
    "4\n",
    "5\n",
    "Explanation:\n",
    "One way to reach the maximum distance 4 is to pick 1 in the first or third array and pick 5 in the second array.\"\"\"\n",
    "class Solution(object):\n",
    "    def maxDistance(arrays):\n",
    "        \"\"\"\n",
    "        :type arrays: List[List[int]]\n",
    "        :rtype: int\n",
    "        \"\"\"\n",
    "        len_arrays=len(arrays)\n",
    "        res=0\n",
    "        min_first=arrays[0][0]\n",
    "        max_last=arrays[0][len(arrays[0])-1]\n",
    "        for i in range(1,len_arrays):\n",
    "            array_i=arrays[i]\n",
    "            res=max(abs(array_i[len(array_i)-1]-min_first),abs(array_i[0]-max_last),res)\n",
    "            min_first=min(array_i[0],min_first)\n",
    "            max_last=max(array_i[len(array_i)-1],max_last)\n",
    "\n",
    "        return res\n",
    "Solution.maxDistance([[1,2,3],[4,5],[1,2,3]])"
   ]
  },
  {
   "cell_type": "code",
   "execution_count": 640,
   "metadata": {},
   "outputs": [],
   "source": [
    "\"\"\"My solution\"\"\"\n",
    "def maxDistance(arrays):\n",
    "    minlist = [min(array) for array in arrays]\n",
    "    maxlist = [max(array) for array in arrays]\n",
    "    print(minlist,maxlist)\n",
    "    curr_max = 0\n",
    "    n = len(minlist)\n",
    "    for i in range(n):\n",
    "        for j in range(n):\n",
    "            if i != j and abs(maxlist[j]-minlist[i])> curr_max:\n",
    "                    curr_max = abs(maxlist[j]-minlist[i])\n",
    "    return curr_max\n",
    "    \n",
    "\n",
    "maxDistance([[1,2,3],\n",
    " [4,5],\n",
    " [1,2,3]])"
   ]
  },
  {
   "cell_type": "code",
   "execution_count": 647,
   "metadata": {},
   "outputs": [
    {
     "data": {
      "text/plain": [
       "720"
      ]
     },
     "execution_count": 647,
     "metadata": {},
     "output_type": "execute_result"
    }
   ],
   "source": [
    "\"\"\"628. Maximum Product of Three Numbers\"\"\"\n",
    "\"\"\"Given an integer array, find three numbers whose product is maximum and output the maximum product.\n",
    "\n",
    "Example 1:\n",
    "\n",
    "Input: [1,2,3]\n",
    "Output: 6\n",
    " \n",
    "\n",
    "Example 2:\n",
    "\n",
    "Input: [1,2,3,4]\n",
    "Output: 24\"\"\"\n",
    "class Solution(object):  #如果左边有两个负数，乘最大的数 与 最大三个数 比价\n",
    "    def maximumProduct(nums):\n",
    "        \"\"\"\n",
    "        :type nums: List[int]\n",
    "        :rtype: int\n",
    "        \"\"\"\n",
    "        nums.sort()\n",
    "        right = nums[-3] * nums[-2] * nums[-1]\n",
    "        left = nums[0] * nums[1] * nums[-1]\n",
    "        return max(left, right)\n",
    "Solution.maximumProduct([-4,-3,-2,-1,60])"
   ]
  },
  {
   "cell_type": "code",
   "execution_count": 664,
   "metadata": {},
   "outputs": [
    {
     "data": {
      "text/plain": [
       "12.75"
      ]
     },
     "execution_count": 664,
     "metadata": {},
     "output_type": "execute_result"
    }
   ],
   "source": [
    "\"\"\"643. Maximum Average Subarray I\"\"\"\n",
    "\"\"\"Given an array consisting of n integers, find the contiguous subarray of \n",
    "given length k that has the maximum average value. And you need to output the maximum average value.\n",
    "\n",
    "Example 1:\n",
    "\n",
    "Input: [1,12,-5,-6,50,3], k = 4\n",
    "Output: 12.75\n",
    "Explanation: Maximum average is (12-5-6+50)/4 = 51/4 = 12.75\"\"\"\n",
    "class Solution(object):\n",
    "    def findMaxAverage(nums, k):\n",
    "        \"\"\"\n",
    "        :type nums: List[int]\n",
    "        :type k: int\n",
    "        :rtype: float\n",
    "        \"\"\"\n",
    "        m=f=sum(nums[0:k])\n",
    "        for i in range(0,len(nums)-k):\n",
    "            f+=nums[i+k]-nums[i]\n",
    "            if f>m:\n",
    "                m=f\n",
    "        return m*1.0/k\n",
    "Solution.findMaxAverage([1,12,-5,-6,50,3], 4)"
   ]
  },
  {
   "cell_type": "code",
   "execution_count": 665,
   "metadata": {},
   "outputs": [
    {
     "data": {
      "text/plain": [
       "12.75"
      ]
     },
     "execution_count": 665,
     "metadata": {},
     "output_type": "execute_result"
    }
   ],
   "source": [
    "\"\"\"My solution, Exceed time limit\"\"\"\n",
    "def findMaxAverage(nums, k):\n",
    "    maxavg = min(nums)\n",
    "    for i in range(len(nums)-k+1):\n",
    "        curravg = sum(nums[i:i+k])/k\n",
    "        if curravg > maxavg:\n",
    "            maxavg = curravg\n",
    "    return maxavg\n",
    "\n",
    "findMaxAverage([1,12,-5,-6,50,3], 4)"
   ]
  },
  {
   "cell_type": "code",
   "execution_count": 8,
   "metadata": {},
   "outputs": [
    {
     "data": {
      "text/plain": [
       "[[0, 0, 0], [0, 0, 0], [0, 0, 0]]"
      ]
     },
     "execution_count": 8,
     "metadata": {},
     "output_type": "execute_result"
    }
   ],
   "source": [
    "\"\"\"661. Image Smoother\"\"\"\n",
    "\"\"\"Given a 2D integer matrix M representing the gray scale of an image, you need \n",
    "to design a smoother to make the gray scale of each cell becomes the average gray \n",
    "scale (rounding down) of all the 8 surrounding cells and itself. If a cell has less \n",
    "than 8 surrounding cells, then use as many as you can.\n",
    "\n",
    "Example 1:\n",
    "\n",
    "Input:\n",
    "[[1,1,1],\n",
    " [1,0,1],\n",
    " [1,1,1]]\n",
    "Output:\n",
    "[[0, 0, 0],\n",
    " [0, 0, 0],\n",
    " [0, 0, 0]]\n",
    "Explanation:\n",
    "For the point (0,0), (0,2), (2,0), (2,2): floor(3/4) = floor(0.75) = 0\n",
    "For the point (0,1), (1,0), (1,2), (2,1): floor(5/6) = floor(0.83333333) = 0\n",
    "For the point (1,1): floor(8/9) = floor(0.88888889) = 0\n",
    "Note:\n",
    "\n",
    "The value in the given matrix is in the range of [0, 255].\n",
    "The length and width of the given matrix are in the range of [1, 150].\"\"\"\n",
    "class Solution(object):\n",
    "    def imageSmoother(M):\n",
    "        \"\"\"\n",
    "        :type M: List[List[int]]\n",
    "        :rtype: List[List[int]]\n",
    "        \"\"\"\n",
    "        d = [(-1,-1),(-1,0),(-1,1),(0,-1),(0,1),(1,-1),(1,0),(1,1)]\n",
    "        n, m = len(M), len(M[0])\n",
    "        res = [[0] * m for k in M]\n",
    "        for i in range(n):\n",
    "            for j in range(m):\n",
    "                sum = M[i][j]\n",
    "                count = 1\n",
    "                for dx,dy in d:                \n",
    "                    if 0<=i+dx<n and 0<=j+dy<m:\n",
    "                        sum += M[i+dx][j+dy]\n",
    "                        count += 1\n",
    "                res[i][j] = sum//count\n",
    "        return res\n",
    "Solution.imageSmoother([[1,1,1],\n",
    " [1,0,1],\n",
    " [1,1,1]])\n"
   ]
  },
  {
   "cell_type": "code",
   "execution_count": 34,
   "metadata": {},
   "outputs": [
    {
     "data": {
      "text/plain": [
       "False"
      ]
     },
     "metadata": {},
     "output_type": "display_data"
    },
    {
     "data": {
      "text/plain": [
       "True"
      ]
     },
     "execution_count": 34,
     "metadata": {},
     "output_type": "execute_result"
    }
   ],
   "source": [
    "\"\"\"665. Non-decreasing Array\"\"\"\n",
    "\"\"\"Given an array nums with n integers, your task is to check if it could become \n",
    "non-decreasing by modifying at most 1 element.\n",
    "\n",
    "We define an array is non-decreasing if nums[i] <= nums[i + 1] holds for \n",
    "every i (0-based) such that (0 <= i <= n - 2).\n",
    "\n",
    "Example 1:\n",
    "\n",
    "Input: nums = [4,2,3]\n",
    "Output: true\n",
    "Explanation: You could modify the first 4 to 1 to get a non-decreasing array.\n",
    "Example 2:\n",
    "\n",
    "Input: nums = [4,2,1]\n",
    "Output: false\n",
    "Explanation: You can't get a non-decreasing array by modify at most one element.\n",
    " \n",
    "\n",
    "Constraints:\n",
    "\n",
    "1 <= n <= 10 ^ 4\n",
    "- 10 ^ 5 <= nums[i] <= 10 ^ 5\"\"\"\n",
    "\"\"\"Not my solution\"\"\"\n",
    "class Solution(object):\n",
    "    def checkPossibility(A):\n",
    "        p = None\n",
    "        for i in range(len(A) - 1):\n",
    "            if A[i] > A[i+1]:\n",
    "                if p is not None:\n",
    "                    return False\n",
    "                p = i\n",
    "                print(p)\n",
    "\n",
    "        return (p is None or p == 0 or p == len(A)-2 or\n",
    "                A[p-1] <= A[p+1] or A[p] <= A[p+2])\n",
    "    \n",
    "class Solution(object):\n",
    "    def checkPossibility(nums):\n",
    "        \"\"\"\n",
    "        :type nums: List[int]\n",
    "        :rtype: bool\n",
    "        \"\"\"\n",
    "        isIncrease = lambda nums: all(nums[i] <= nums[i + 1] for i in range(len(nums) - 1))\n",
    "        one, two = nums[:], nums[:]\n",
    "        for i in range(0, len(nums) - 1):\n",
    "            if nums[i + 1] < nums[i]:\n",
    "                one[i] = one[i + 1]\n",
    "                two[i + 1] = two[i]\n",
    "                break\n",
    "        return isIncrease(one) or isIncrease(two)\n",
    "\n",
    "display(Solution.checkPossibility([3,4,2,3]))\n",
    "\n",
    "Solution.checkPossibility([4,2,3])"
   ]
  },
  {
   "cell_type": "code",
   "execution_count": 112,
   "metadata": {},
   "outputs": [
    {
     "name": "stdout",
     "output_type": "stream",
     "text": [
      "1 0\n",
      "2 0\n",
      "3 0\n",
      "3 3\n",
      "3 4\n",
      "3 4\n",
      "3 4\n",
      "4 4\n"
     ]
    },
    {
     "data": {
      "text/plain": [
       "4"
      ]
     },
     "execution_count": 112,
     "metadata": {},
     "output_type": "execute_result"
    }
   ],
   "source": [
    "\"\"\"674. Longest Continuous Increasing Subsequence\"\"\"\n",
    "\"\"\"Given an unsorted array of integers, find the length of longest continuous increasing subsequence (subarray).\n",
    "\n",
    "Example 1:\n",
    "\n",
    "Input: [1,3,5,4,7]\n",
    "Output: 3\n",
    "Explanation: The longest continuous increasing subsequence is [1,3,5], its length is 3. \n",
    "Even though [1,3,5,7] is also an increasing subsequence, it's not a continuous one where 5 and 7 are separated by 4. \n",
    "Example 2:\n",
    "\n",
    "Input: [2,2,2,2,2]\n",
    "Output: 1\n",
    "Explanation: The longest continuous increasing subsequence is [2], its length is 1. \"\"\"\n",
    "\n",
    "\"\"\"Leetcode Solution\"\"\"\n",
    "\"\"\"Approach #1: Sliding Window [Accepted]\n",
    "\n",
    "Intuition and Algorithm\n",
    "\n",
    "Every (continuous) increasing subsequence is disjoint, and the boundary of each such subsequence occurs \n",
    "whenever nums[i-1] >= nums[i]. When it does, it marks the start of a new increasing subsequence at nums[i], \n",
    "and we store such i in the variable anchor.\n",
    "\n",
    "For example, if nums = [7, 8, 9, 1, 2, 3], then anchor starts at 0 (nums[anchor] = 7) and gets set again to \n",
    "anchor = 3 (nums[anchor] = 1). Regardless of the value of anchor, we record a candidate answer of i - anchor + 1, \n",
    "the length of the subarray nums[anchor], nums[anchor+1], ..., nums[i]; and our answer gets updated appropriately.\"\"\"\n",
    "class Solution(object):\n",
    "    def findLengthOfLCIS(nums):\n",
    "        ans = anchor = 0\n",
    "        for i in range(len(nums)):\n",
    "            if i and nums[i-1] >= nums[i]: anchor = i  #set anchor is important\n",
    "            ans = max(ans, i - anchor + 1)\n",
    "            print(ans, anchor)\n",
    "        return ans\n",
    "Solution.findLengthOfLCIS([1,3,5,4,2,3,4,5])"
   ]
  },
  {
   "cell_type": "code",
   "execution_count": 147,
   "metadata": {},
   "outputs": [
    {
     "name": "stdout",
     "output_type": "stream",
     "text": [
      "{1: 0, 2: 1, 3: 3, 4: 5} {1: 4, 2: 6, 3: 3, 4: 5} {1: 2, 2: 3, 3: 1, 4: 1}\n"
     ]
    },
    {
     "data": {
      "text/plain": [
       "6"
      ]
     },
     "execution_count": 147,
     "metadata": {},
     "output_type": "execute_result"
    }
   ],
   "source": [
    "\"\"\"697. Degree of an Array\"\"\"\n",
    "\"\"\"Given a non-empty array of non-negative integers nums, the degree of this array is defined \n",
    "as the maximum frequency of any one of its elements.\n",
    "\n",
    "Your task is to find the smallest possible length of a (contiguous) subarray of nums, that has \n",
    "the same degree as nums.\n",
    "\n",
    "Example 1:\n",
    "\n",
    "Input: nums = [1,2,2,3,1]\n",
    "Output: 2\n",
    "Explanation: \n",
    "The input array has a degree of 2 because both elements 1 and 2 appear twice.\n",
    "Of the subarrays that have the same degree:\n",
    "[1, 2, 2, 3, 1], [1, 2, 2, 3], [2, 2, 3, 1], [1, 2, 2], [2, 2, 3], [2, 2]\n",
    "The shortest length is 2. So return 2.\n",
    "Example 2:\n",
    "\n",
    "Input: nums = [1,2,2,3,1,4,2]\n",
    "Output: 6\n",
    "Explanation: \n",
    "The degree is 3 because the element 2 is repeated 3 times.\n",
    "So [2,2,3,1,4,2] is the shortest subarray, therefore returning 6.\"\"\"\n",
    "class Solution(object):\n",
    "    def findShortestSubArray(nums):\n",
    "        left, right, count = {}, {}, {}   #用left、right来标注起始和结束位置\n",
    "        for i, x in enumerate(nums):\n",
    "            if x not in left: left[x] = i\n",
    "            right[x] = i\n",
    "            count[x] = count.get(x, 0) + 1  #diff from count[x]: if x not exists in count, show '0' instead of 'None'\n",
    "            \n",
    "        ans = len(nums)\n",
    "        degree = max(count.values())\n",
    "        for x in count:\n",
    "            if count[x] == degree:\n",
    "                ans = min(ans, right[x] - left[x] + 1)\n",
    "        print(left, right, count)\n",
    "        return ans\n",
    "Solution.findShortestSubArray([1,2,2,3,1,4,2])"
   ]
  },
  {
   "cell_type": "code",
   "execution_count": 139,
   "metadata": {},
   "outputs": [
    {
     "data": {
      "text/plain": [
       "6"
      ]
     },
     "execution_count": 139,
     "metadata": {},
     "output_type": "execute_result"
    }
   ],
   "source": [
    "\"\"\"My Solution, exceed time limit\"\"\"\n",
    "def findShortestSubArray(nums):\n",
    "    def maxfreq(nums):\n",
    "        maxfreq = 0\n",
    "        for i in set(nums):\n",
    "            maxfreq = max(maxfreq, nums.count(i))\n",
    "        return maxfreq\n",
    "    a = maxfreq(nums)\n",
    "    minlen = len(nums)\n",
    "    for i in range(len(nums)+1):\n",
    "        for q in range(len(nums)+1):\n",
    "            if i<q and maxfreq(nums[i:q])==a:\n",
    "                length =  q-i\n",
    "                minlen = min(minlen, length)\n",
    "    return minlen\n",
    "findShortestSubArray([1,2,2,3,1,4,2])"
   ]
  },
  {
   "cell_type": "code",
   "execution_count": 199,
   "metadata": {},
   "outputs": [
    {
     "name": "stdout",
     "output_type": "stream",
     "text": [
      "1\n",
      "3\n",
      "5\n"
     ]
    },
    {
     "data": {
      "text/plain": [
       "True"
      ]
     },
     "execution_count": 199,
     "metadata": {},
     "output_type": "execute_result"
    }
   ],
   "source": [
    "\"\"\"717. 1-bit and 2-bit Characters\"\"\"\n",
    "\"\"\"We have two special characters. The first character can be represented by one bit 0. \n",
    "The second character can be represented by two bits (10 or 11).\n",
    "\n",
    "Now given a string represented by several bits. Return whether the last character must be a \n",
    "one-bit character or not. The given string will always end with a zero.\n",
    "\n",
    "Example 1:\n",
    "\n",
    "Input: \n",
    "bits = [1, 0, 0]\n",
    "Output: True\n",
    "Explanation: \n",
    "The only way to decode it is two-bit character and one-bit character. So the last character is one-bit character.\n",
    "Example 2:\n",
    "\n",
    "Input: \n",
    "bits = [1, 1, 1, 0]\n",
    "Output: False\n",
    "Explanation: \n",
    "The only way to decode it is two-bit character and two-bit character. So the last character is NOT one-bit character.\"\"\"\n",
    "class Solution(object):\n",
    "    def isOneBitCharacter(bits):\n",
    "        i = 0\n",
    "        while i < len(bits) - 1:\n",
    "            i += bits[i] + 1\n",
    "            print(i)\n",
    "        return i == len(bits) - 1\n",
    "Solution.isOneBitCharacter([0,1, 0,1, 1, 0])"
   ]
  },
  {
   "cell_type": "code",
   "execution_count": 200,
   "metadata": {},
   "outputs": [
    {
     "data": {
      "text/plain": [
       "False"
      ]
     },
     "metadata": {},
     "output_type": "display_data"
    },
    {
     "data": {
      "text/plain": [
       "True"
      ]
     },
     "execution_count": 200,
     "metadata": {},
     "output_type": "execute_result"
    }
   ],
   "source": [
    "\"\"\"My Solution\"\"\"\n",
    "def isOneBitCharacter(bits):\n",
    "    n = len(bits)\n",
    "    if n == 1 or bits[-2] ==0:\n",
    "        return True\n",
    "    else:\n",
    "        i = 0\n",
    "        while i < n-1:\n",
    "            if bits[i] == 1 and i+2 != n:\n",
    "                i = i+2\n",
    "            elif bits[i] == 1 and i+2 == n:\n",
    "                return False\n",
    "            else: i = i+1\n",
    "    return i == n-1 \n",
    "\n",
    "display(isOneBitCharacter([1, 1, 0,1, 0]))\n",
    "\n",
    "isOneBitCharacter([0,1, 0,1, 1, 0])"
   ]
  },
  {
   "cell_type": "code",
   "execution_count": 217,
   "metadata": {},
   "outputs": [
    {
     "data": {
      "text/plain": [
       "3"
      ]
     },
     "execution_count": 217,
     "metadata": {},
     "output_type": "execute_result"
    }
   ],
   "source": [
    "\"\"\"724. Find Pivot Index\"\"\"\n",
    "\"\"\"Given an array of integers nums, write a method that returns the \"pivot\" index of this array.\n",
    "\n",
    "We define the pivot index as the index where the sum of all the numbers to the left of the index \n",
    "is equal to the sum of all the numbers to the right of the index.\n",
    "\n",
    "If no such index exists, we should return -1. If there are multiple pivot indexes, you should return \n",
    "the left-most pivot index.\n",
    "\n",
    " \n",
    "\n",
    "Example 1:\n",
    "\n",
    "Input: nums = [1,7,3,6,5,6]\n",
    "Output: 3\n",
    "Explanation:\n",
    "The sum of the numbers to the left of index 3 (nums[3] = 6) is equal to the sum of numbers to the right of index 3.\n",
    "Also, 3 is the first index where this occurs.\n",
    "Example 2:\n",
    "\n",
    "Input: nums = [1,2,3]\n",
    "Output: -1\n",
    "Explanation:\n",
    "There is no index that satisfies the conditions in the problem statement.\"\"\"\n",
    "class Solution(object):\n",
    "    def pivotIndex(nums):\n",
    "        S = sum(nums)\n",
    "        leftsum = 0\n",
    "        for i, x in enumerate(nums):\n",
    "            if leftsum == (S - leftsum - x):\n",
    "                return i\n",
    "            leftsum += x\n",
    "        return -1\n",
    "Solution.pivotIndex([1,7,3,6,5,6])"
   ]
  },
  {
   "cell_type": "code",
   "execution_count": 215,
   "metadata": {},
   "outputs": [
    {
     "data": {
      "text/plain": [
       "3"
      ]
     },
     "execution_count": 215,
     "metadata": {},
     "output_type": "execute_result"
    }
   ],
   "source": [
    "\"\"\"My Solution, Exceed time limit\"\"\"\n",
    "def pivotIndex(nums):\n",
    "    for i in range(len(nums)):\n",
    "        if sum(nums[0:i]) == sum(nums[i+1:]):\n",
    "            return i\n",
    "    return -1\n",
    "pivotIndex([1,7,3,6,5,6])"
   ]
  },
  {
   "cell_type": "code",
   "execution_count": 216,
   "metadata": {},
   "outputs": [
    {
     "data": {
      "text/plain": [
       "-1"
      ]
     },
     "execution_count": 216,
     "metadata": {},
     "output_type": "execute_result"
    }
   ],
   "source": [
    "\"\"\"My Solution, too slow\"\"\"\n",
    "def pivotIndex2(nums):\n",
    "    sums = sum(nums)\n",
    "    for i in range(len(nums)):\n",
    "        if 2*sum(nums[:i])+nums[i]==sums:\n",
    "            return i\n",
    "    return -1\n",
    "pivotIndex2([1,2,3])"
   ]
  },
  {
   "cell_type": "code",
   "execution_count": 256,
   "metadata": {},
   "outputs": [
    {
     "name": "stdout",
     "output_type": "stream",
     "text": [
      "1 0\n",
      "100 1\n",
      "2 100\n",
      "3 2\n",
      "102 3\n",
      "4 102\n",
      "5 4\n",
      "5 5\n",
      "105 5\n",
      "6 105\n"
     ]
    },
    {
     "data": {
      "text/plain": [
       "6"
      ]
     },
     "metadata": {},
     "output_type": "display_data"
    },
    {
     "name": "stdout",
     "output_type": "stream",
     "text": [
      "[1, 100, 2, 0, 0, 0, 0, 0, 0, 0, 0]\n",
      "[1, 100, 2, 3, 0, 0, 0, 0, 0, 0, 0]\n",
      "[1, 100, 2, 3, 3, 0, 0, 0, 0, 0, 0]\n",
      "[1, 100, 2, 3, 3, 103, 0, 0, 0, 0, 0]\n",
      "[1, 100, 2, 3, 3, 103, 4, 0, 0, 0, 0]\n",
      "[1, 100, 2, 3, 3, 103, 4, 5, 0, 0, 0]\n",
      "[1, 100, 2, 3, 3, 103, 4, 5, 104, 0, 0]\n",
      "[1, 100, 2, 3, 3, 103, 4, 5, 104, 6, 0]\n",
      "[1, 100, 2, 3, 3, 103, 4, 5, 104, 6, 6]\n"
     ]
    },
    {
     "data": {
      "text/plain": [
       "6"
      ]
     },
     "metadata": {},
     "output_type": "display_data"
    },
    {
     "name": "stdout",
     "output_type": "stream",
     "text": [
      "[10, 15, 30, 0]\n",
      "[10, 15, 30, 15]\n"
     ]
    },
    {
     "data": {
      "text/plain": [
       "15"
      ]
     },
     "execution_count": 256,
     "metadata": {},
     "output_type": "execute_result"
    }
   ],
   "source": [
    "\"\"\"746. Min Cost Climbing Stairs\"\"\"\n",
    "\"\"\"On a staircase, the i-th step has some non-negative cost cost[i] assigned (0 indexed).\n",
    "\n",
    "Once you pay the cost, you can either climb one or two steps. You need to find minimum cost \n",
    "to reach the top of the floor, and you can either start from the step with index 0, or the step with index 1.\n",
    "\n",
    "Example 1:\n",
    "\n",
    "Input: cost = [10, 15, 20]\n",
    "Output: 15\n",
    "Explanation: Cheapest is start on cost[1], pay that cost and go to the top.\n",
    "Example 2:\n",
    "\n",
    "Input: cost = [1, 100, 1, 1, 1, 100, 1, 1, 100, 1]\n",
    "Output: 6\n",
    "Explanation: Cheapest is start on cost[0], and only step on 1s, skipping cost[3].\"\"\"\n",
    "\n",
    "\"\"\"Leetcode Solution, Dynamic Programming\"\"\"\n",
    "class Solution(object):\n",
    "    def minCostClimbingStairs(cost):\n",
    "        f1 = f2 = 0\n",
    "        for x in reversed(cost):\n",
    "            f1, f2 = x + min(f1, f2), f1\n",
    "            print(f1,f2)\n",
    "        return min(f1, f2)\n",
    "display(Solution.minCostClimbingStairs([1, 100, 1, 1, 1, 100, 1, 1, 100, 1]))\n",
    "\n",
    "class Solution2:\n",
    "    def minCostClimbingStairs(cost):\n",
    "        \"\"\"\n",
    "        :type cost: List[int]\n",
    "        :rtype: int\n",
    "        \"\"\"\n",
    "        N = len(cost)\n",
    "        cost.append(0)\n",
    "        dp = [0] * (N + 1)\n",
    "        dp[0] = cost[0]\n",
    "        dp[1] = cost[1]\n",
    "        for i in range(2, N + 1):\n",
    "            dp[i] = min(dp[i - 1], dp[i - 2]) + cost[i]  #前面两个比较小的那个加新的\n",
    "            print(dp)\n",
    "        return dp[-1]\n",
    "display(Solution2.minCostClimbingStairs([1, 100, 1, 1, 1, 100, 1, 1, 100, 1]))\n",
    "Solution2.minCostClimbingStairs([10, 15, 20])"
   ]
  },
  {
   "cell_type": "code",
   "execution_count": 286,
   "metadata": {},
   "outputs": [
    {
     "data": {
      "text/plain": [
       "-1"
      ]
     },
     "execution_count": 286,
     "metadata": {},
     "output_type": "execute_result"
    }
   ],
   "source": [
    "\"\"\"747. Largest Number At Least Twice of Others\"\"\"\n",
    "\"\"\"In a given integer array nums, there is always exactly one largest element.\n",
    "\n",
    "Find whether the largest element in the array is at least twice as much as every other number in the array.\n",
    "\n",
    "If it is, return the index of the largest element, otherwise return -1.\n",
    "\n",
    "Example 1:\n",
    "\n",
    "Input: nums = [3, 6, 1, 0]\n",
    "Output: 1\n",
    "Explanation: 6 is the largest integer, and for every other number in the array x,\n",
    "6 is more than twice as big as x.  The index of value 6 is 1, so we return 1.\n",
    " \n",
    "\n",
    "Example 2:\n",
    "\n",
    "Input: nums = [1, 2, 3, 4]\n",
    "Output: -1\n",
    "Explanation: 4 isn't at least as big as twice the value of 3, so we return -1.\"\"\"\n",
    "class Solution:\n",
    "    def dominantIndex(nums):\n",
    "        maxi = max(nums)\n",
    "        lists = [maxi >= i*2 for i in nums if i != maxi]\n",
    "        if all(lists):\n",
    "            return nums.index(maxi)\n",
    "        else:\n",
    "            return -1\n",
    "Solution.dominantIndex([1, 2, 3, 4])"
   ]
  },
  {
   "cell_type": "code",
   "execution_count": 306,
   "metadata": {},
   "outputs": [
    {
     "data": {
      "text/plain": [
       "True"
      ]
     },
     "execution_count": 306,
     "metadata": {},
     "output_type": "execute_result"
    }
   ],
   "source": [
    "\"\"\"766. Toeplitz Matrix\"\"\"\n",
    "\"\"\"A matrix is Toeplitz if every diagonal from top-left to bottom-right has the same element.\n",
    "\n",
    "Now given an M x N matrix, return True if and only if the matrix is Toeplitz.\n",
    " \n",
    "\n",
    "Example 1:\n",
    "\n",
    "Input:\n",
    "matrix = [\n",
    "  [1,2,3,4],\n",
    "  [5,1,2,3],\n",
    "  [9,5,1,2]\n",
    "]\n",
    "Output: True\n",
    "Explanation:\n",
    "In the above grid, the diagonals are:\n",
    "\"[9]\", \"[5, 5]\", \"[1, 1, 1]\", \"[2, 2, 2]\", \"[3, 3]\", \"[4]\".\n",
    "In each diagonal all elements are the same, so the answer is True.\n",
    "Example 2:\n",
    "\n",
    "Input:\n",
    "matrix = [\n",
    "  [1,2],\n",
    "  [2,2]\n",
    "]\n",
    "Output: False\n",
    "Explanation:\n",
    "The diagonal \"[1, 2]\" has different elements.\"\"\"\n",
    "class Solution(object):  # 从单个点出发，只考虑是不是等于它左上角的数，思想很重要\n",
    "    def isToeplitzMatrix(matrix):\n",
    "        return all(r == 0 or c == 0 or matrix[r-1][c-1] == val\n",
    "                   for r, row in enumerate(matrix)\n",
    "                   for c, val in enumerate(row))\n",
    "Solution.isToeplitzMatrix([\n",
    "  [1,2,3,4],\n",
    "  [5,1,2,3],\n",
    "  [9,5,1,2]\n",
    "])"
   ]
  },
  {
   "cell_type": "code",
   "execution_count": 386,
   "metadata": {},
   "outputs": [
    {
     "data": {
      "text/plain": [
       "[[3, 5], [6, 9], [12, 14]]"
      ]
     },
     "metadata": {},
     "output_type": "display_data"
    },
    {
     "data": {
      "text/plain": [
       "[[3, 6]]"
      ]
     },
     "execution_count": 386,
     "metadata": {},
     "output_type": "execute_result"
    }
   ],
   "source": [
    "\"\"\"830. Positions of Large Groups\"\"\"\n",
    "\"\"\"In a string S of lowercase letters, these letters form consecutive groups of the same character.\n",
    "\n",
    "For example, a string like S = \"abbxxxxzyy\" has the groups \"a\", \"bb\", \"xxxx\", \"z\" and \"yy\".\n",
    "\n",
    "Call a group large if it has 3 or more characters.  We would like the starting and ending positions \n",
    "of every large group.\n",
    "\n",
    "The final answer should be in lexicographic order.\n",
    "\n",
    "Example 1:\n",
    "\n",
    "Input: \"abbxxxxzzy\"\n",
    "Output: [[3,6]]\n",
    "Explanation: \"xxxx\" is the single large group with starting  3 and ending positions 6.\n",
    "Example 2:\n",
    "\n",
    "Input: \"abc\"\n",
    "Output: []\n",
    "Explanation: We have \"a\",\"b\" and \"c\" but no large group.\n",
    "Example 3:\n",
    "\n",
    "Input: \"abcdddeeeeaabbbcd\"\n",
    "Output: [[3,5],[6,9],[12,14]]\"\"\"\n",
    "class Solution(object):\n",
    "    def largeGroupPositions(S):\n",
    "        ans = []\n",
    "        i = 0 # The start of each group\n",
    "        for j in range(len(S)):\n",
    "            if j == len(S) - 1 or S[j] != S[j+1]:\n",
    "                # Here, [i, j] represents a group.\n",
    "                if j-i+1 >= 3:\n",
    "                    ans.append([i, j])\n",
    "                i = j+1\n",
    "        return ans\n",
    "display(Solution.largeGroupPositions(\"abcdddeeeeaabbbcd\"))\n",
    "\n",
    "class Solution(object):\n",
    "    def largeGroupPositions(S):\n",
    "        \"\"\"\n",
    "        :type S: str\n",
    "        :rtype: List[List[int]]\n",
    "        \"\"\"\n",
    "        start, n, res = 0, len(S), []\n",
    "        for i in range(1,n):\n",
    "            if S[i] != S[i-1]:\n",
    "                if i-start>=3:\n",
    "                    res.append([start, i-1])\n",
    "                start = i\n",
    "        if n-1-start>=2:\n",
    "            res.append([start, n-1])\n",
    "        return res\n",
    "Solution.largeGroupPositions(\"abbxxxxzzy\")"
   ]
  },
  {
   "cell_type": "code",
   "execution_count": 388,
   "metadata": {},
   "outputs": [
    {
     "data": {
      "text/plain": [
       "[[3, 5], [6, 9], [12, 14]]"
      ]
     },
     "execution_count": 388,
     "metadata": {},
     "output_type": "execute_result"
    }
   ],
   "source": [
    "\"\"\"My solution, runtime error\"\"\"\n",
    "def largeGroupPositions(S):\n",
    "    ans = []\n",
    "    endpos = [i for i in range(len(S)) if i == len(S) - 1 or S[i] != S[i+1]]\n",
    "    if len(endpos) ==1 and endpos[0]>=2:\n",
    "        ans = [0,endpos[0]]\n",
    "    else:\n",
    "        for i in range(len(endpos)):\n",
    "            if endpos[i]-endpos[i-1]>=3:\n",
    "                ans.append([endpos[i-1]+1, endpos[i]])\n",
    "    return ans\n",
    "\n",
    "largeGroupPositions('abcdddeeeeaabbbcd')"
   ]
  },
  {
   "cell_type": "code",
   "execution_count": 398,
   "metadata": {},
   "outputs": [
    {
     "name": "stdout",
     "output_type": "stream",
     "text": [
      "[[0, 0, 1, 1], [1, 0, 0, 1], [1, 1, 1, 0], [0, 1, 0, 1]]\n"
     ]
    },
    {
     "data": {
      "text/plain": [
       "[[1, 1, 0, 0], [0, 1, 1, 0], [0, 0, 0, 1], [1, 0, 1, 0]]"
      ]
     },
     "execution_count": 398,
     "metadata": {},
     "output_type": "execute_result"
    }
   ],
   "source": [
    "\"\"\"832. Flipping an Image\"\"\"\n",
    "\"\"\"Given a binary matrix A, we want to flip the image horizontally, then invert it, \n",
    "and return the resulting image.\n",
    "\n",
    "To flip an image horizontally means that each row of the image is reversed.  \n",
    "For example, flipping [1, 1, 0] horizontally results in [0, 1, 1].\n",
    "\n",
    "To invert an image means that each 0 is replaced by 1, and each 1 is replaced by 0. \n",
    "For example, inverting [0, 1, 1] results in [1, 0, 0].\n",
    "\n",
    "Example 1:\n",
    "\n",
    "Input: [[1,1,0],[1,0,1],[0,0,0]]\n",
    "Output: [[1,0,0],[0,1,0],[1,1,1]]\n",
    "Explanation: First reverse each row: [[0,1,1],[1,0,1],[0,0,0]].\n",
    "Then, invert the image: [[1,0,0],[0,1,0],[1,1,1]]\n",
    "Example 2:\n",
    "\n",
    "Input: [[1,1,0,0],[1,0,0,1],[0,1,1,1],[1,0,1,0]]\n",
    "Output: [[1,1,0,0],[0,1,1,0],[0,0,0,1],[1,0,1,0]]\n",
    "Explanation: First reverse each row: [[0,0,1,1],[1,0,0,1],[1,1,1,0],[0,1,0,1]].\n",
    "Then invert the image: [[1,1,0,0],[0,1,1,0],[0,0,0,1],[1,0,1,0]]\"\"\"\n",
    "\"\"\"My solution\"\"\"\n",
    "class Solution:\n",
    "    def flipAndInvertImage(A):\n",
    "        dic = {1:0, 0:1}\n",
    "        a = [i[::-1] for i in A]\n",
    "        print(a)\n",
    "        return [[dic[i] for i in q] for q in a]\n",
    "Solution.flipAndInvertImage([[1,1,0,0],[1,0,0,1],[0,1,1,1],[1,0,1,0]])"
   ]
  },
  {
   "cell_type": "code",
   "execution_count": 400,
   "metadata": {},
   "outputs": [
    {
     "data": {
      "text/plain": [
       "1"
      ]
     },
     "execution_count": 400,
     "metadata": {},
     "output_type": "execute_result"
    }
   ],
   "source": [
    "\"\"\"840. Magic Squares In Grid\"\"\"\n",
    "\"\"\"A 3 x 3 magic square is a 3 x 3 grid filled with distinct numbers from 1 to 9 such \n",
    "that each row, column, and both diagonals all have the same sum.\n",
    "\n",
    "Given an grid of integers, how many 3 x 3 \"magic square\" subgrids are there?  (Each subgrid is contiguous).\n",
    "\n",
    "Example 1:\n",
    "\n",
    "Input: [[4,3,8,4],\n",
    "        [9,5,1,9],\n",
    "        [2,7,6,2]]\n",
    "Output: 1\n",
    "Explanation: \n",
    "The following subgrid is a 3 x 3 magic square:\n",
    "438\n",
    "951\n",
    "276\n",
    "\n",
    "while this one is not:\n",
    "384\n",
    "519\n",
    "762\n",
    "\n",
    "In total, there is only one magic square inside the given grid.\"\"\"\n",
    "\"\"\"Sample Solution\"\"\"\n",
    "class Solution(object):\n",
    "    def numMagicSquaresInside(grid):\n",
    "        R, C = len(grid), len(grid[0])\n",
    "\n",
    "        def magic(a,b,c,d,e,f,g,h,i):\n",
    "            return (sorted([a,b,c,d,e,f,g,h,i]) == list(range(1, 10)) and\n",
    "                (a+b+c == d+e+f == g+h+i == a+d+g ==\n",
    "                 b+e+h == c+f+i == a+e+i == c+e+g == 15))\n",
    "\n",
    "        ans = 0\n",
    "        for r in range(R-2):\n",
    "            for c in range(C-2):\n",
    "                if grid[r+1][c+1] != 5: continue  # optional skip\n",
    "                if magic(grid[r][c], grid[r][c+1], grid[r][c+2],\n",
    "                         grid[r+1][c], grid[r+1][c+1], grid[r+1][c+2],\n",
    "                         grid[r+2][c], grid[r+2][c+1], grid[r+2][c+2]):\n",
    "                    ans += 1\n",
    "        return ans\n",
    "Solution.numMagicSquaresInside([[4,3,8,4],\n",
    "        [9,5,1,9],\n",
    "        [2,7,6,2]])"
   ]
  },
  {
   "cell_type": "code",
   "execution_count": 441,
   "metadata": {},
   "outputs": [
    {
     "data": {
      "text/plain": [
       "2"
      ]
     },
     "execution_count": 441,
     "metadata": {},
     "output_type": "execute_result"
    }
   ],
   "source": [
    "\"\"\"849. Maximize Distance to Closest Person\"\"\"\n",
    "\"\"\"In a row of seats, 1 represents a person sitting in that seat, and 0 represents that the seat is empty. \n",
    "\n",
    "There is at least one empty seat, and at least one person sitting.\n",
    "\n",
    "Alex wants to sit in the seat such that the distance between him and the closest person to him is maximized. \n",
    "\n",
    "Return that maximum distance to closest person.\n",
    "\n",
    "Example 1:\n",
    "\n",
    "Input: [1,0,0,0,1,0,1]\n",
    "Output: 2\n",
    "Explanation: \n",
    "If Alex sits in the second open seat (seats[2]), then the closest person has distance 2.\n",
    "If Alex sits in any other open seat, the closest person has distance 1.\n",
    "Thus, the maximum distance to the closest person is 2.\n",
    "Example 2:\n",
    "\n",
    "Input: [1,0,0,0]\n",
    "Output: 3\n",
    "Explanation: \n",
    "If Alex sits in the last seat, the closest person is 3 seats away.\n",
    "This is the maximum distance possible, so the answer is 3.\"\"\"\n",
    "\"\"\"Sample Solution1:\"\"\"\n",
    "class Solution(object):\n",
    "    import itertools\n",
    "    def maxDistToClosest(self, seats):\n",
    "        ans = 0\n",
    "        for seat, group in itertools.groupby(seats):\n",
    "            if not seat:\n",
    "                K = len(list(group))\n",
    "                ans = max(ans, (K+1)//2)\n",
    "\n",
    "        return max(ans, seats.index(1), seats[::-1].index(1))\n",
    "    \n",
    "\"\"\"Sample Solution2:\"\"\"\n",
    "class Solution(object):\n",
    "    def maxDistToClosest(seats):\n",
    "        people = (i for i, seat in enumerate(seats) if seat)\n",
    "        prev, future = None, next(people)\n",
    "\n",
    "        ans = 0\n",
    "        for i, seat in enumerate(seats):\n",
    "            if seat:\n",
    "                prev = i\n",
    "            else:\n",
    "                while future is not None and future < i:\n",
    "                    future = next(people, None)\n",
    "\n",
    "                left = float('inf') if prev is None else i - prev\n",
    "                right = float('inf') if future is None else future - i\n",
    "                ans = max(ans, min(left, right))\n",
    "\n",
    "        return ans\n",
    "    \n",
    "\"\"\"Sample Solution3:\"\"\"\n",
    "class Solution(object):\n",
    "    def maxDistToClosest(seats):\n",
    "        N = len(seats)\n",
    "        left, right = [N] * N, [N] * N\n",
    "\n",
    "        for i in range(N):\n",
    "            if seats[i] == 1: left[i] = 0\n",
    "            elif i > 0: left[i] = left[i-1] + 1\n",
    "\n",
    "        for i in range(N-1, -1, -1):\n",
    "            if seats[i] == 1: right[i] = 0\n",
    "            elif i < N-1: right[i] = right[i+1] + 1\n",
    "\n",
    "        return max(min(left[i], right[i])\n",
    "                   for i, seat in enumerate(seats) if not seat)\n",
    "Solution.maxDistToClosest([1,0,0,0,1,0,1])"
   ]
  },
  {
   "cell_type": "code",
   "execution_count": 453,
   "metadata": {},
   "outputs": [
    {
     "data": {
      "text/plain": [
       "[[1, 4, 7], [2, 5, 8], [3, 6, 9]]"
      ]
     },
     "execution_count": 453,
     "metadata": {},
     "output_type": "execute_result"
    }
   ],
   "source": [
    "\"\"\"867. Transpose Matrix\"\"\"\n",
    "\"\"\"Given a matrix A, return the transpose of A.\n",
    "\n",
    "The transpose of a matrix is the matrix flipped over it's main diagonal, switching the row and \n",
    "column indices of the matrix.\n",
    "\n",
    "Example 1:\n",
    "\n",
    "Input: [[1,2,3],[4,5,6],[7,8,9]]\n",
    "Output: [[1,4,7],[2,5,8],[3,6,9]]\n",
    "Example 2:\n",
    "\n",
    "Input: [[1,2,3],[4,5,6]]\n",
    "Output: [[1,4],[2,5],[3,6]]\"\"\"\n",
    "\"\"\"My solution\"\"\"\n",
    "class Solution:\n",
    "    def transpose(A):\n",
    "        M, N = len(A), len(A[0])\n",
    "        a = [[1 for i in range(M)] for k in range(N)]\n",
    "        for p in range(M):\n",
    "            for q in range(N):\n",
    "                a[q][p] = A[p][q]\n",
    "        return a\n",
    "Solution.transpose([[1,2,3],[4,5,6],[7,8,9]])"
   ]
  },
  {
   "cell_type": "code",
   "execution_count": 455,
   "metadata": {},
   "outputs": [
    {
     "data": {
      "text/plain": [
       "[(1, 4), (2, 5), (3, 6)]"
      ]
     },
     "execution_count": 455,
     "metadata": {},
     "output_type": "execute_result"
    }
   ],
   "source": [
    "\"\"\"Other solution\"\"\"\n",
    "class Solution2:\n",
    "    def transpose(A):\n",
    "        return [z for z in list(zip(*A))]\n",
    "Solution2.transpose([[1,2,3],[4,5,6]])"
   ]
  },
  {
   "cell_type": "code",
   "execution_count": 466,
   "metadata": {},
   "outputs": [
    {
     "data": {
      "text/plain": [
       "[5, 4]"
      ]
     },
     "execution_count": 466,
     "metadata": {},
     "output_type": "execute_result"
    }
   ],
   "source": [
    "\"\"\"888. Fair Candy Swap\"\"\"\n",
    "\"\"\"Alice and Bob have candy bars of different sizes: A[i] is the size of the i-th bar of candy \n",
    "that Alice has, and B[j] is the size of the j-th bar of candy that Bob has.\n",
    "\n",
    "Since they are friends, they would like to exchange one candy bar each so that after the exchange, \n",
    "they both have the same total amount of candy.  (The total amount of candy a person has is the sum \n",
    "of the sizes of candy bars they have.)\n",
    "\n",
    "Return an integer array ans where ans[0] is the size of the candy bar that Alice must exchange, \n",
    "and ans[1] is the size of the candy bar that Bob must exchange.\n",
    "\n",
    "If there are multiple answers, you may return any one of them.  It is guaranteed an answer exists.\n",
    "\n",
    "Example 1:\n",
    "\n",
    "Input: A = [1,1], B = [2,2]\n",
    "Output: [1,2]\n",
    "Example 2:\n",
    "\n",
    "Input: A = [1,2], B = [2,3]\n",
    "Output: [1,2]\n",
    "Example 3:\n",
    "\n",
    "Input: A = [2], B = [1,3]\n",
    "Output: [2,3]\n",
    "\n",
    "Example 4:\n",
    "\n",
    "Input: A = [1,2,5], B = [2,4]\n",
    "Output: [5,4]\"\"\"\n",
    "\"\"\"Sample solution\"\"\"\n",
    "class Solution(object):\n",
    "    def fairCandySwap(A, B):\n",
    "        Sa, Sb = sum(A), sum(B)\n",
    "        setB = set(B)\n",
    "        for x in A:\n",
    "            if x + (Sb - Sa) // 2 in setB:  #思想一样，但少了一层for loop\n",
    "                return [x, x + (Sb - Sa) // 2]\n",
    "A = [1,2,5]\n",
    "B = [2,4]\n",
    "Solution.fairCandySwap(A,B)"
   ]
  },
  {
   "cell_type": "code",
   "execution_count": 463,
   "metadata": {},
   "outputs": [
    {
     "data": {
      "text/plain": [
       "[5, 4]"
      ]
     },
     "execution_count": 463,
     "metadata": {},
     "output_type": "execute_result"
    }
   ],
   "source": [
    "\"\"\"My solution, exceed time limit\"\"\"\n",
    "def fairCandySwap(A,B):\n",
    "    for i in A:\n",
    "        for q in B:\n",
    "            if (i-q)*2 == sum(A)-sum(B):\n",
    "                return [i,q]\n",
    "A = [1,2,5]\n",
    "B = [2,4]\n",
    "fairCandySwap(A,B)"
   ]
  },
  {
   "cell_type": "code",
   "execution_count": 473,
   "metadata": {},
   "outputs": [
    {
     "data": {
      "text/plain": [
       "True"
      ]
     },
     "execution_count": 473,
     "metadata": {},
     "output_type": "execute_result"
    }
   ],
   "source": [
    "\"\"\"896. Monotonic Array\"\"\"\n",
    "\"\"\"An array is monotonic if it is either monotone increasing or monotone decreasing.\n",
    "\n",
    "An array A is monotone increasing if for all i <= j, A[i] <= A[j].  An array A is monotone \n",
    "decreasing if for all i <= j, A[i] >= A[j].\n",
    "\n",
    "Return true if and only if the given array A is monotonic.\n",
    "\n",
    "Example 1:\n",
    "\n",
    "Input: [1,2,2,3]\n",
    "Output: true\n",
    "Example 2:\n",
    "\n",
    "Input: [6,5,4,4]\n",
    "Output: true\n",
    "Example 3:\n",
    "\n",
    "Input: [1,3,2]\n",
    "Output: false\n",
    "Example 4:\n",
    "\n",
    "Input: [1,2,4,5]\n",
    "Output: true\n",
    "Example 5:\n",
    "\n",
    "Input: [1,1,1]\n",
    "Output: true\"\"\"\n",
    "\"\"\"Sample Solution1\"\"\"\n",
    "class Solution(object):\n",
    "    def isMonotonic(A):\n",
    "        return (all(A[i] <= A[i+1] for i in range(len(A) - 1)) or\n",
    "                all(A[i] >= A[i+1] for i in range(len(A) - 1)))\n",
    "    \n",
    "\"\"\"Sample Solution2\"\"\"\n",
    "class Solution(object):\n",
    "    def isMonotonic(A):\n",
    "        increasing = decreasing = True\n",
    "\n",
    "        for i in range(len(A) - 1):\n",
    "            if A[i] > A[i+1]:\n",
    "                increasing = False\n",
    "            if A[i] < A[i+1]:\n",
    "                decreasing = False\n",
    "\n",
    "        return increasing or decreasing\n",
    "Solution.isMonotonic([1,2,4,5])"
   ]
  },
  {
   "cell_type": "code",
   "execution_count": 474,
   "metadata": {},
   "outputs": [
    {
     "data": {
      "text/plain": [
       "True"
      ]
     },
     "execution_count": 474,
     "metadata": {},
     "output_type": "execute_result"
    }
   ],
   "source": [
    "\"\"\"My solution\"\"\"\n",
    "def isMonotonic(A):\n",
    "    diff = [A[i+1]-A[i] for i in range(len(A)-1)]\n",
    "    return all(i>=0 for i in diff) or all(i<=0 for i in diff)\n",
    "\n",
    "isMonotonic([1,1,1])"
   ]
  },
  {
   "cell_type": "code",
   "execution_count": 478,
   "metadata": {},
   "outputs": [
    {
     "data": {
      "text/plain": [
       "[4, 2, 1, 3]"
      ]
     },
     "execution_count": 478,
     "metadata": {},
     "output_type": "execute_result"
    }
   ],
   "source": [
    "\"\"\"905. Sort Array By Parity\"\"\"\n",
    "\"\"\"Given an array A of non-negative integers, return an array consisting of \n",
    "all the even elements of A, followed by all the odd elements of A.\n",
    "\n",
    "You may return any answer array that satisfies this condition.\n",
    "\n",
    "Example 1:\n",
    "\n",
    "Input: [3,1,2,4]\n",
    "Output: [2,4,3,1]\n",
    "The outputs [4,2,3,1], [2,4,1,3], and [4,2,1,3] would also be accepted.\"\"\"\n",
    "\"\"\"Sample Solution 1\"\"\"\n",
    "class Solution(object):\n",
    "    def sortArrayByParity(A):\n",
    "        A.sort(key = lambda x: x % 2)\n",
    "        return A\n",
    "\n",
    "\"\"\"Sample Solution 2\"\"\"\n",
    "class Solution(object):\n",
    "    def sortArrayByParity(A):\n",
    "        return ([x for x in A if x % 2 == 0] +\n",
    "                [x for x in A if x % 2 == 1])\n",
    "\n",
    "\"\"\"Sample Solution 3\"\"\"\n",
    "class Solution(object):\n",
    "    def sortArrayByParity(A):\n",
    "        i, j = 0, len(A) - 1\n",
    "        while i < j:\n",
    "            if A[i] % 2 > A[j] % 2:\n",
    "                A[i], A[j] = A[j], A[i]\n",
    "\n",
    "            if A[i] % 2 == 0: i += 1\n",
    "            if A[j] % 2 == 1: j -= 1\n",
    "\n",
    "        return A\n",
    "Solution.sortArrayByParity([3,1,2,4])"
   ]
  },
  {
   "cell_type": "code",
   "execution_count": 479,
   "metadata": {},
   "outputs": [
    {
     "data": {
      "text/plain": [
       "[2, 4, 3, 1]"
      ]
     },
     "execution_count": 479,
     "metadata": {},
     "output_type": "execute_result"
    }
   ],
   "source": [
    "\"\"\"My Solution\"\"\"\n",
    "def sortArrayByParity(A):\n",
    "    even = [i for i in A if i%2==0]\n",
    "    odd = [i for i in A if i not in even]\n",
    "    return even + odd\n",
    "\n",
    "sortArrayByParity([3,1,2,4])"
   ]
  },
  {
   "cell_type": "code",
   "execution_count": 528,
   "metadata": {},
   "outputs": [
    {
     "data": {
      "text/plain": [
       "False"
      ]
     },
     "execution_count": 528,
     "metadata": {},
     "output_type": "execute_result"
    }
   ],
   "source": [
    "\"\"\"914. X of a Kind in a Deck of Cards\"\"\"\n",
    "\"\"\"In a deck of cards, each card has an integer written on it.\n",
    "\n",
    "Return true if and only if you can choose X >= 2 such that it is possible \n",
    "to split the entire deck into 1 or more groups of cards, where:\n",
    "\n",
    "Each group has exactly X cards.\n",
    "All the cards in each group have the same integer.\n",
    "Example 1:\n",
    "\n",
    "Input: deck = [1,2,3,4,4,3,2,1]\n",
    "Output: true\n",
    "Explanation: Possible partition [1,1],[2,2],[3,3],[4,4].\n",
    "Example 2:\n",
    "\n",
    "Input: deck = [1,1,1,2,2,2,3,3]\n",
    "Output: false´\n",
    "Explanation: No possible partition.\n",
    "Example 3:\n",
    "\n",
    "Input: deck = [1]\n",
    "Output: false\n",
    "Explanation: No possible partition.\n",
    "Example 4:\n",
    "\n",
    "Input: deck = [1,1]\n",
    "Output: true\n",
    "Explanation: Possible partition [1,1].\n",
    "Example 5:\n",
    "\n",
    "Input: deck = [1,1,2,2,2,2]\n",
    "Output: true\n",
    "Explanation: Possible partition [1,1],[2,2],[2,2].\"\"\"\n",
    "\n",
    "\"\"\"Sample Solution 1\"\"\"\n",
    "class Solution(object):\n",
    "    def hasGroupsSizeX(deck):\n",
    "#        count = collections.Counter(deck)       from solution\n",
    "        count = list({deck.count(i) for i in set(deck)})\n",
    "        N = len(deck)\n",
    "        for X in range(2, N+1):\n",
    "            if N % X == 0:\n",
    "                if all(v % X == 0 for v in count):\n",
    "                    return True\n",
    "        return False\n",
    "Solution.hasGroupsSizeX([1,2])"
   ]
  },
  {
   "cell_type": "code",
   "execution_count": 543,
   "metadata": {},
   "outputs": [
    {
     "data": {
      "text/plain": [
       "[4, 5, 2, 7]"
      ]
     },
     "execution_count": 543,
     "metadata": {},
     "output_type": "execute_result"
    }
   ],
   "source": [
    "\"\"\"922. Sort Array By Parity II\"\"\"\n",
    "\"\"\"Given an array A of non-negative integers, half of the integers in A are odd, and half of the integers are even.\n",
    "\n",
    "Sort the array so that whenever A[i] is odd, i is odd; and whenever A[i] is even, i is even.\n",
    "\n",
    "You may return any answer array that satisfies this condition.\n",
    "\n",
    "Example 1:\n",
    "\n",
    "Input: [4,2,5,7]\n",
    "Output: [4,5,2,7]\n",
    "Explanation: [4,7,2,5], [2,5,4,7], [2,7,4,5] would also have been accepted.\"\"\"\n",
    "\"\"\"Sample Solution 1\"\"\"\n",
    "class Solution(object):\n",
    "    def sortArrayByParityII(A):\n",
    "        N = len(A)\n",
    "        ans = [None] * N\n",
    "\n",
    "#         t = 0\n",
    "#         for i, x in enumerate(A):\n",
    "#             if x % 2 == 0:\n",
    "#                 ans[t] = x\n",
    "#                 t += 2\n",
    "\n",
    "#         t = 1\n",
    "#         for i, x in enumerate(A):\n",
    "#             if x % 2 == 1:\n",
    "#                 ans[t] = x\n",
    "#                 t += 2\n",
    "\n",
    "        # We could have also used slice assignment:\n",
    "        ans[::2] = (x for x in A if x % 2 == 0)\n",
    "        ans[1::2] = (x for x in A if x % 2 == 1)\n",
    "\n",
    "        return ans\n",
    "    \n",
    "\"\"\"Sample Solution 2\"\"\"\n",
    "class Solution(object):\n",
    "    def sortArrayByParityII(A):\n",
    "        j = 1\n",
    "        for i in range(0, len(A), 2):\n",
    "            if A[i] % 2:\n",
    "                while A[j] % 2:\n",
    "                    j += 2\n",
    "                A[i], A[j] = A[j], A[i]\n",
    "        return A\n",
    "Solution.sortArrayByParityII([4,2,5,7])"
   ]
  },
  {
   "cell_type": "code",
   "execution_count": 542,
   "metadata": {},
   "outputs": [
    {
     "data": {
      "text/plain": [
       "[4, 5, 2, 7]"
      ]
     },
     "execution_count": 542,
     "metadata": {},
     "output_type": "execute_result"
    }
   ],
   "source": [
    "\"\"\"My solution\"\"\"\n",
    "def sortArrayByParityII(A):\n",
    "    even = [i for i in A if i%2==0]\n",
    "    odd = [i for i in A if i%2==1]\n",
    "    for i in range(len(A)):\n",
    "        if i%2 ==0:\n",
    "            A[i] = even[i//2]\n",
    "        else:\n",
    "            A[i] = odd[i//2]\n",
    "    return A\n",
    "\n",
    "sortArrayByParityII([4,2,5,7])"
   ]
  },
  {
   "cell_type": "code",
   "execution_count": 7,
   "metadata": {},
   "outputs": [
    {
     "data": {
      "text/plain": [
       "False"
      ]
     },
     "execution_count": 7,
     "metadata": {},
     "output_type": "execute_result"
    }
   ],
   "source": [
    "\"\"\"941. Valid Mountain Array\"\"\"\n",
    "\"\"\"Given an array A of integers, return true if and only if it is a valid mountain array.\n",
    "\n",
    "Recall that A is a mountain array if and only if:\n",
    "\n",
    "A.length >= 3\n",
    "There exists some i with 0 < i < A.length - 1 such that:\n",
    "A[0] < A[1] < ... A[i-1] < A[i]\n",
    "A[i] > A[i+1] > ... > A[A.length - 1]\n",
    "\n",
    "Example 1:\n",
    "\n",
    "Input: [2,1]\n",
    "Output: false\n",
    "Example 2:\n",
    "\n",
    "Input: [3,5,5]\n",
    "Output: false\n",
    "Example 3:\n",
    "\n",
    "Input: v\n",
    "Output: true\"\"\"\n",
    "\"\"\"Sample solution\"\"\"\n",
    "class Solution(object):\n",
    "    def validMountainArray(A):\n",
    "        N = len(A)\n",
    "        i = 0\n",
    "\n",
    "        # walk up\n",
    "        while i+1 < N and A[i] < A[i+1]:   #不考虑最大值，就往前走，停了看是不是等于最后一位\n",
    "            i += 1\n",
    "\n",
    "        # peak can't be first or last\n",
    "        if i == 0 or i == N-1:\n",
    "            return False\n",
    "\n",
    "        # walk down\n",
    "        while i+1 < N and A[i] > A[i+1]:\n",
    "            i += 1\n",
    "\n",
    "        return i == N-1\n",
    "Solution.validMountainArray([3,5,5])"
   ]
  },
  {
   "cell_type": "code",
   "execution_count": 6,
   "metadata": {},
   "outputs": [
    {
     "data": {
      "text/plain": [
       "True"
      ]
     },
     "execution_count": 6,
     "metadata": {},
     "output_type": "execute_result"
    }
   ],
   "source": [
    "\"\"\"My solution, slow\"\"\"\n",
    "def validMountainArray(A):\n",
    "    if len(A)<3:\n",
    "        return False\n",
    "    maxi = max(A)\n",
    "    index = A.index(maxi)\n",
    "    if index == 0 or index == len(A)-1:\n",
    "        return False\n",
    "    return all(A[i+1]>A[i] for i in range(index)) and all(A[k+1]<A[k] for k in range(index,len(A)-1))\n",
    "\n",
    "validMountainArray([0,3,1])"
   ]
  },
  {
   "cell_type": "code",
   "execution_count": 21,
   "metadata": {},
   "outputs": [
    {
     "data": {
      "text/plain": [
       "[4, 9, 9, 49, 121]"
      ]
     },
     "execution_count": 21,
     "metadata": {},
     "output_type": "execute_result"
    }
   ],
   "source": [
    "\"\"\"977. Squares of a Sorted Array\"\"\"\n",
    "\"\"\"Given an array of integers A sorted in non-decreasing order, return an array of \n",
    "the squares of each number, also in sorted non-decreasing order.\n",
    "\n",
    "Example 1:\n",
    "\n",
    "Input: [-4,-1,0,3,10]\n",
    "Output: [0,1,9,16,100]\n",
    "Example 2:\n",
    "\n",
    "Input: [-7,-3,2,3,11]\n",
    "Output: [4,9,9,49,121]\"\"\"\n",
    "class Solution:\n",
    "    def sortedSquares(A):\n",
    "        return sorted(i*i for i in A)\n",
    "Solution.sortedSquares([-7,-3,2,3,11])"
   ]
  },
  {
   "cell_type": "code",
   "execution_count": 53,
   "metadata": {},
   "outputs": [
    {
     "data": {
      "text/plain": [
       "[8, 6, 2, 4]"
      ]
     },
     "execution_count": 53,
     "metadata": {},
     "output_type": "execute_result"
    }
   ],
   "source": [
    "\"\"\"985. Sum of Even Numbers After Queries\"\"\"\n",
    "\"\"\"We have an array A of integers, and an array queries of queries.\n",
    "\n",
    "For the i-th query val = queries[i][0], index = queries[i][1], we add val to A[index].  \n",
    "Then, the answer to the i-th query is the sum of the even values of A.\n",
    "\n",
    "(Here, the given index = queries[i][1] is a 0-based index, and each query permanently modifies the array A.)\n",
    "\n",
    "Return the answer to all queries.  Your answer array should have answer[i] as the answer to the i-th query.\n",
    "\n",
    "Example 1:\n",
    "\n",
    "Input: A = [1,2,3,4], queries = [[1,0],[-3,1],[-4,0],[2,3]]\n",
    "Output: [8,6,2,4]\n",
    "Explanation: \n",
    "At the beginning, the array is [1,2,3,4].\n",
    "After adding 1 to A[0], the array is [2,2,3,4], and the sum of even values is 2 + 2 + 4 = 8.\n",
    "After adding -3 to A[1], the array is [2,-1,3,4], and the sum of even values is 2 + 4 = 6.\n",
    "After adding -4 to A[0], the array is [-2,-1,3,4], and the sum of even values is -2 + 4 = 2.\n",
    "After adding 2 to A[3], the array is [-2,-1,3,6], and the sum of even values is -2 + 6 = 4.\"\"\"\n",
    "\n",
    "\"\"\"Intuition and Algorithm\n",
    "\n",
    "Let's try to maintain S, the sum of the array throughout one query operation.\n",
    "\n",
    "When acting on an array element A[index], the rest of the values of A remain the same. \n",
    "Let's remove A[index] from S if it is even, then add A[index] + val back (if it is even.)\n",
    "\n",
    "Here are some examples:\n",
    "\n",
    "If we have A = [2,2,2,2,2], S = 10, and we do A[0] += 4: we will update S -= 2, then S += 6. \n",
    "At the end, we will have A = [6,2,2,2,2] and S = 14.\n",
    "\n",
    "If we have A = [1,2,2,2,2], S = 8, and we do A[0] += 3: we will skip updating S (since A[0] is odd), \n",
    "then S += 4. At the end, we will have A = [4,2,2,2,2] and S = 12.\n",
    "\n",
    "If we have A = [2,2,2,2,2], S = 10 and we do A[0] += 1: we will update S -= 2, then skip updating S \n",
    "(since A[0] + 1 is odd.) At the end, we will have A = [3,2,2,2,2] and S = 8.\n",
    "\n",
    "If we have A = [1,2,2,2,2], S = 8 and we do A[0] += 2: we will skip updating S (since A[0] is odd), \n",
    "then skip updating S again (since A[0] + 2 is odd.) At the end, we will have A = [3,2,2,2,2] and S = 8.\n",
    "\n",
    "These examples help illustrate that our algorithm actually maintains the value of S throughout each \n",
    "query operation.\"\"\"\n",
    "class Solution(object):\n",
    "    def sumEvenAfterQueries( A, queries):\n",
    "        S = sum(x for x in A if x % 2 == 0)\n",
    "        ans = []\n",
    "\n",
    "        for x, k in queries:\n",
    "            if A[k] % 2 == 0: S -= A[k]\n",
    "            A[k] += x\n",
    "            if A[k] % 2 == 0: S += A[k]\n",
    "            ans.append(S)\n",
    "\n",
    "        return ans\n",
    "Solution.sumEvenAfterQueries([1,2,3,4], [[1,0],[-3,1],[-4,0],[2,3]])"
   ]
  },
  {
   "cell_type": "code",
   "execution_count": 56,
   "metadata": {},
   "outputs": [
    {
     "data": {
      "text/plain": [
       "[8, 6, 2, 4]"
      ]
     },
     "execution_count": 56,
     "metadata": {},
     "output_type": "execute_result"
    }
   ],
   "source": [
    "\"\"\"My solution, exceed time limit\"\"\"\n",
    "def sumEvenAfterQueries(A, queries):\n",
    "    even = []\n",
    "    for i,q in queries:\n",
    "        A[q] = A[q]+ i\n",
    "        even.append(sum(i for i in A if i%2==0))\n",
    "    return even\n",
    "\n",
    "A = [1,2,3,4]\n",
    "queries = [[1,0],[-3,1],[-4,0],[2,3]]\n",
    "sumEvenAfterQueries(A, queries)"
   ]
  },
  {
   "cell_type": "code",
   "execution_count": 60,
   "metadata": {},
   "outputs": [
    {
     "data": {
      "text/plain": [
       "['1', '0', '2', '1']"
      ]
     },
     "execution_count": 60,
     "metadata": {},
     "output_type": "execute_result"
    }
   ],
   "source": [
    "\"\"\"989. Add to Array-Form of Integer\"\"\"\n",
    "\"\"\"For a non-negative integer X, the array-form of X is an array of its digits \n",
    "in left to right order.  For example, if X = 1231, then the array form is [1,2,3,1].\n",
    "\n",
    "Given the array-form A of a non-negative integer X, return the array-form of the integer X+K.\n",
    "\n",
    "Example 1:\n",
    "\n",
    "Input: A = [1,2,0,0], K = 34\n",
    "Output: [1,2,3,4]\n",
    "Explanation: 1200 + 34 = 1234\n",
    "Example 2:\n",
    "\n",
    "Input: A = [2,7,4], K = 181\n",
    "Output: [4,5,5]\n",
    "Explanation: 274 + 181 = 455\n",
    "Example 3:\n",
    "\n",
    "Input: A = [2,1,5], K = 806\n",
    "Output: [1,0,2,1]\n",
    "Explanation: 215 + 806 = 1021\n",
    "Example 4:\n",
    "\n",
    "Input: A = [9,9,9,9,9,9,9,9,9,9], K = 1\n",
    "Output: [1,0,0,0,0,0,0,0,0,0,0]\n",
    "Explanation: 9999999999 + 1 = 10000000000\"\"\"\n",
    "\n",
    "\"\"\"My solution\"\"\"\n",
    "class Solution:\n",
    "    def addToArrayForm(A,K):\n",
    "        A_str = int(''.join(map(str,A))) + K\n",
    "        return [i for i in str(A_str)]\n",
    "Solution.addToArrayForm([2,1,5],806)"
   ]
  },
  {
   "cell_type": "code",
   "execution_count": null,
   "metadata": {},
   "outputs": [],
   "source": [
    "\"\"\"999. Available Captures for Rook\"\"\"\n",
    "\"\"\"On an 8 x 8 chessboard, there is one white rook.  There also may be empty squares, \n",
    "white bishops, and black pawns.  These are given as characters 'R', '.', 'B', and 'p' respectively. \n",
    "Uppercase characters represent white pieces, and lowercase characters represent black pieces.\n",
    "\n",
    "The rook moves as in the rules of Chess: it chooses one of four cardinal directions \n",
    "(north, east, west, and south), then moves in that direction until it chooses to stop, \n",
    "reaches the edge of the board, or captures an opposite colored pawn by moving to the same square it occupies.  \n",
    "Also, rooks cannot move into the same square as other friendly bishops.\n",
    "\n",
    "Return the number of pawns the rook can capture in one move.\n",
    "Input: [[\".\",\".\",\".\",\".\",\".\",\".\",\".\",\".\"],[\".\",\".\",\".\",\"p\",\".\",\".\",\".\",\".\"],[\".\",\".\",\".\",\"R\",\".\",\".\",\".\",\"p\"],\n",
    "[\".\",\".\",\".\",\".\",\".\",\".\",\".\",\".\"],[\".\",\".\",\".\",\".\",\".\",\".\",\".\",\".\"],[\".\",\".\",\".\",\"p\",\".\",\".\",\".\",\".\"],\n",
    "[\".\",\".\",\".\",\".\",\".\",\".\",\".\",\".\"],[\".\",\".\",\".\",\".\",\".\",\".\",\".\",\".\"]]\n",
    "Output: 3\n",
    "Explanation: \n",
    "In this example the rook is able to capture all the pawns.\"\"\""
   ]
  }
 ],
 "metadata": {
  "kernelspec": {
   "display_name": "Python 3",
   "language": "python",
   "name": "python3"
  },
  "language_info": {
   "codemirror_mode": {
    "name": "ipython",
    "version": 3
   },
   "file_extension": ".py",
   "mimetype": "text/x-python",
   "name": "python",
   "nbconvert_exporter": "python",
   "pygments_lexer": "ipython3",
   "version": "3.6.8"
  }
 },
 "nbformat": 4,
 "nbformat_minor": 2
}
